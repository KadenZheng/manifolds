{
  "cells": [
    {
      "cell_type": "raw",
      "metadata": {
        "vscode": {
          "languageId": "raw"
        }
      },
      "source": [
        "# PCA Variance Explained Analysis\n",
        "\n",
        "This notebook analyzes how many PCA dimensions are needed to capture 95% of the variance in:\n",
        "1. **Temporal data**: Days of the week with add_plur context (\"Monday plus X days equals...\")\n",
        "2. **Control data**: Random common words as baseline\n",
        "\n",
        "We'll examine this across all layers of the Llama-3.2-1B model to understand how the dimensionality requirements change through the network.\n"
      ]
    },
    {
      "cell_type": "raw",
      "metadata": {
        "vscode": {
          "languageId": "raw"
        }
      },
      "source": [
        "## 1. Setup and Imports\n"
      ]
    },
    {
      "cell_type": "code",
      "execution_count": 2,
      "metadata": {},
      "outputs": [
        {
          "name": "stdout",
          "output_type": "stream",
          "text": [
            "Random seeds set to 42\n"
          ]
        }
      ],
      "source": [
        "import sys\n",
        "sys.path.append('../../..')  # Add project root to path\n",
        "\n",
        "import numpy as np\n",
        "import pandas as pd\n",
        "import matplotlib.pyplot as plt\n",
        "import seaborn as sns\n",
        "from sklearn.decomposition import PCA\n",
        "from sklearn.preprocessing import StandardScaler\n",
        "import plotly.graph_objects as go\n",
        "from plotly.subplots import make_subplots\n",
        "import pickle\n",
        "from typing import Dict, List, Tuple\n",
        "\n",
        "# Import project modules\n",
        "from src.config import Config, load_model_and_tokenizer\n",
        "from src.datasets import TemporalDatasetCreator, get_control_words\n",
        "from src.embeddings import extract_all_layer_representations, extract_control_embeddings\n",
        "from src.utils import check_gpu_availability, set_random_seeds\n",
        "\n",
        "# Set up plotting style\n",
        "plt.style.use('seaborn-v0_8-darkgrid')\n",
        "sns.set_palette(\"husl\")\n",
        "\n",
        "# Set random seeds for reproducibility\n",
        "set_random_seeds(42)\n"
      ]
    },
    {
      "cell_type": "raw",
      "metadata": {
        "vscode": {
          "languageId": "raw"
        }
      },
      "source": [
        "## 2. Load Model and Configuration\n"
      ]
    },
    {
      "cell_type": "code",
      "execution_count": 3,
      "metadata": {},
      "outputs": [
        {
          "name": "stdout",
          "output_type": "stream",
          "text": [
            "Using device: cpu\n",
            "Loading model: meta-llama/Llama-3.2-1B\n",
            "Loaded model: meta-llama/Llama-3.2-1B\n",
            "Number of layers: 17\n"
          ]
        }
      ],
      "source": [
        "# Initialize configuration\n",
        "config = Config()\n",
        "print(f\"Using device: {config.device}\")\n",
        "\n",
        "# Load model and tokenizer\n",
        "model, tokenizer = load_model_and_tokenizer(config)\n",
        "print(f\"Loaded model: {config.model_name}\")\n",
        "print(f\"Number of layers: {model.config.num_hidden_layers + 1}\")  # +1 for embedding layer\n"
      ]
    },
    {
      "cell_type": "raw",
      "metadata": {
        "vscode": {
          "languageId": "raw"
        }
      },
      "source": [
        "## 3. Prepare Datasets\n"
      ]
    },
    {
      "cell_type": "code",
      "execution_count": 4,
      "metadata": {},
      "outputs": [
        {
          "name": "stdout",
          "output_type": "stream",
          "text": [
            "Temporal dataset size: 413\n",
            "Sample temporal examples:\n",
            "                                  text  day  offset  result_day   context\n",
            "0  Monday plus 2 days equals Wednesday    0       2           2  add_plur\n",
            "1   Monday plus 3 days equals Thursday    0       3           3  add_plur\n",
            "2     Monday plus 4 days equals Friday    0       4           4  add_plur\n",
            "3   Monday plus 5 days equals Saturday    0       5           5  add_plur\n",
            "4     Monday plus 6 days equals Sunday    0       6           6  add_plur\n",
            "\n",
            "Control words: 45 words\n",
            "Categories: food, emotions, actions, descriptions, etc.\n",
            "Sample control words: ['apple', 'banana', 'orange', 'grape', 'strawberry', 'carrot', 'broccoli', 'potato', 'tomato', 'lettuce']\n"
          ]
        }
      ],
      "source": [
        "# Create temporal dataset (add_plur)\n",
        "creator = TemporalDatasetCreator(config)\n",
        "# create_dataset returns a list, we need to filter for add_plur context\n",
        "all_data = creator.create_dataset(['add_plur'])  # Only create add_plur data\n",
        "add_plur_df = pd.DataFrame(all_data)\n",
        "print(f\"Temporal dataset size: {len(add_plur_df)}\")\n",
        "print(f\"Sample temporal examples:\")\n",
        "print(add_plur_df.head())\n",
        "\n",
        "# Get control words\n",
        "control_words = get_control_words()\n",
        "print(f\"\\nControl words: {len(control_words)} words\")\n",
        "print(f\"Categories: food, emotions, actions, descriptions, etc.\")\n",
        "print(f\"Sample control words: {control_words[:10]}\")\n"
      ]
    },
    {
      "cell_type": "raw",
      "metadata": {
        "vscode": {
          "languageId": "raw"
        }
      },
      "source": [
        "## 4. Extract Embeddings from All Layers\n"
      ]
    },
    {
      "cell_type": "code",
      "execution_count": 5,
      "metadata": {},
      "outputs": [
        {
          "name": "stderr",
          "output_type": "stream",
          "text": [
            "huggingface/tokenizers: The current process just got forked, after parallelism has already been used. Disabling parallelism to avoid deadlocks...\n",
            "To disable this warning, you can either:\n",
            "\t- Avoid using `tokenizers` before the fork if possible\n",
            "\t- Explicitly set the environment variable TOKENIZERS_PARALLELISM=(true | false)\n"
          ]
        },
        {
          "name": "stdout",
          "output_type": "stream",
          "text": [
            "Extracting temporal embeddings from all layers...\n"
          ]
        },
        {
          "name": "stderr",
          "output_type": "stream",
          "text": [
            "Extracting representations:   0%|          | 0/26 [00:00<?, ?it/s]/Users/kadenzheng/manifolds/notebooks/analysis/variance_explained/../../../src/datasets.py:37: UserWarning: To copy construct from a tensor, it is recommended to use sourceTensor.detach().clone() or sourceTensor.detach().clone().requires_grad_(True), rather than torch.tensor(sourceTensor).\n",
            "  item = {key: torch.tensor(val[idx]) for key, val in self.encodings.items()}\n",
            "Extracting representations: 100%|██████████| 26/26 [00:05<00:00,  5.08it/s]\n"
          ]
        },
        {
          "name": "stdout",
          "output_type": "stream",
          "text": [
            "\n",
            "Extracting control embeddings from all layers...\n"
          ]
        },
        {
          "name": "stderr",
          "output_type": "stream",
          "text": [
            "Extracting representations:   0%|          | 0/2 [00:00<?, ?it/s]/Users/kadenzheng/manifolds/notebooks/analysis/variance_explained/../../../src/datasets.py:121: UserWarning: To copy construct from a tensor, it is recommended to use sourceTensor.detach().clone() or sourceTensor.detach().clone().requires_grad_(True), rather than torch.tensor(sourceTensor).\n",
            "  item = {key: torch.tensor(val[idx]) for key, val in self.encodings.items()}\n",
            "Extracting representations: 100%|██████████| 2/2 [00:00<00:00,  5.41it/s]"
          ]
        },
        {
          "name": "stdout",
          "output_type": "stream",
          "text": [
            "\n",
            "Extraction complete!\n",
            "Layers analyzed: 17\n",
            "Temporal embedding shape (layer 0): (413, 2048)\n",
            "Control embedding shape (layer 0): (45, 2048)\n"
          ]
        },
        {
          "name": "stderr",
          "output_type": "stream",
          "text": [
            "\n"
          ]
        }
      ],
      "source": [
        "# Import TemporalDataset class\n",
        "from src.datasets import TemporalDataset\n",
        "\n",
        "# Extract temporal embeddings\n",
        "print(\"Extracting temporal embeddings from all layers...\")\n",
        "\n",
        "# Tokenize temporal texts\n",
        "temporal_texts = add_plur_df['text'].tolist()\n",
        "temporal_encodings = tokenizer(temporal_texts, truncation=True, padding=True, return_tensors='pt', max_length=128)\n",
        "\n",
        "# Create PyTorch dataset\n",
        "temporal_dataset = TemporalDataset(temporal_encodings, add_plur_df)\n",
        "\n",
        "# Extract embeddings from all layers\n",
        "temporal_embeddings, temporal_labels = extract_all_layer_representations(\n",
        "    model, temporal_dataset, config.device, batch_size=config.batch_size\n",
        ")\n",
        "\n",
        "# Extract control embeddings\n",
        "print(\"\\nExtracting control embeddings from all layers...\")\n",
        "control_embeddings, control_labels = extract_control_embeddings(\n",
        "    control_words, model, tokenizer, config.device\n",
        ")\n",
        "\n",
        "print(f\"\\nExtraction complete!\")\n",
        "print(f\"Layers analyzed: {len(temporal_embeddings)}\")\n",
        "print(f\"Temporal embedding shape (layer 0): {temporal_embeddings[0].shape}\")\n",
        "print(f\"Control embedding shape (layer 0): {control_embeddings[0].shape}\")\n"
      ]
    },
    {
      "cell_type": "raw",
      "metadata": {
        "vscode": {
          "languageId": "raw"
        }
      },
      "source": [
        "## 5. Analyze Variance Explained Across Layers\n"
      ]
    },
    {
      "cell_type": "code",
      "execution_count": 6,
      "metadata": {},
      "outputs": [],
      "source": [
        "def analyze_variance_explained(embeddings: np.ndarray, max_components: int = None) -> Dict:\n",
        "    \"\"\"\n",
        "    Analyze variance explained by PCA components.\n",
        "    \n",
        "    Args:\n",
        "        embeddings: Input embeddings\n",
        "        max_components: Maximum number of components to compute (None = all)\n",
        "        \n",
        "    Returns:\n",
        "        dict: Analysis results including variance ratios and cumulative variance\n",
        "    \"\"\"\n",
        "    # Standardize the data\n",
        "    scaler = StandardScaler()\n",
        "    embeddings_scaled = scaler.fit_transform(embeddings)\n",
        "    \n",
        "    # Determine number of components\n",
        "    n_samples, n_features = embeddings.shape\n",
        "    n_components = min(n_samples, n_features)\n",
        "    if max_components is not None:\n",
        "        n_components = min(n_components, max_components)\n",
        "    \n",
        "    # Perform PCA\n",
        "    pca = PCA(n_components=n_components)\n",
        "    pca.fit(embeddings_scaled)\n",
        "    \n",
        "    # Calculate cumulative variance\n",
        "    cumulative_variance = np.cumsum(pca.explained_variance_ratio_)\n",
        "    \n",
        "    # Find components needed for different thresholds\n",
        "    thresholds = [0.80, 0.90, 0.95, 0.99]\n",
        "    components_needed = {}\n",
        "    for threshold in thresholds:\n",
        "        idx = np.argmax(cumulative_variance >= threshold)\n",
        "        if cumulative_variance[idx] >= threshold:\n",
        "            components_needed[threshold] = idx + 1\n",
        "        else:\n",
        "            components_needed[threshold] = n_components\n",
        "    \n",
        "    return {\n",
        "        'variance_ratios': pca.explained_variance_ratio_,\n",
        "        'cumulative_variance': cumulative_variance,\n",
        "        'components_needed': components_needed,\n",
        "        'total_components': n_components,\n",
        "        'embedding_dim': n_features\n",
        "    }\n"
      ]
    },
    {
      "cell_type": "code",
      "execution_count": 7,
      "metadata": {},
      "outputs": [
        {
          "name": "stderr",
          "output_type": "stream",
          "text": [
            "/Library/Frameworks/Python.framework/Versions/3.13/lib/python3.13/site-packages/sklearn/utils/extmath.py:350: RuntimeWarning: divide by zero encountered in matmul\n",
            "  Q, _ = normalizer(A @ Q)\n",
            "/Library/Frameworks/Python.framework/Versions/3.13/lib/python3.13/site-packages/sklearn/utils/extmath.py:350: RuntimeWarning: overflow encountered in matmul\n",
            "  Q, _ = normalizer(A @ Q)\n",
            "/Library/Frameworks/Python.framework/Versions/3.13/lib/python3.13/site-packages/sklearn/utils/extmath.py:350: RuntimeWarning: invalid value encountered in matmul\n",
            "  Q, _ = normalizer(A @ Q)\n",
            "/Library/Frameworks/Python.framework/Versions/3.13/lib/python3.13/site-packages/sklearn/utils/extmath.py:351: RuntimeWarning: divide by zero encountered in matmul\n",
            "  Q, _ = normalizer(A.T @ Q)\n",
            "/Library/Frameworks/Python.framework/Versions/3.13/lib/python3.13/site-packages/sklearn/utils/extmath.py:351: RuntimeWarning: overflow encountered in matmul\n",
            "  Q, _ = normalizer(A.T @ Q)\n",
            "/Library/Frameworks/Python.framework/Versions/3.13/lib/python3.13/site-packages/sklearn/utils/extmath.py:351: RuntimeWarning: invalid value encountered in matmul\n",
            "  Q, _ = normalizer(A.T @ Q)\n",
            "/Library/Frameworks/Python.framework/Versions/3.13/lib/python3.13/site-packages/sklearn/utils/extmath.py:355: RuntimeWarning: divide by zero encountered in matmul\n",
            "  Q, _ = qr_normalizer(A @ Q)\n",
            "/Library/Frameworks/Python.framework/Versions/3.13/lib/python3.13/site-packages/sklearn/utils/extmath.py:355: RuntimeWarning: overflow encountered in matmul\n",
            "  Q, _ = qr_normalizer(A @ Q)\n",
            "/Library/Frameworks/Python.framework/Versions/3.13/lib/python3.13/site-packages/sklearn/utils/extmath.py:355: RuntimeWarning: invalid value encountered in matmul\n",
            "  Q, _ = qr_normalizer(A @ Q)\n",
            "/Library/Frameworks/Python.framework/Versions/3.13/lib/python3.13/site-packages/sklearn/utils/extmath.py:577: RuntimeWarning: divide by zero encountered in matmul\n",
            "  B = Q.T @ M\n",
            "/Library/Frameworks/Python.framework/Versions/3.13/lib/python3.13/site-packages/sklearn/utils/extmath.py:577: RuntimeWarning: overflow encountered in matmul\n",
            "  B = Q.T @ M\n",
            "/Library/Frameworks/Python.framework/Versions/3.13/lib/python3.13/site-packages/sklearn/utils/extmath.py:577: RuntimeWarning: invalid value encountered in matmul\n",
            "  B = Q.T @ M\n",
            "/Library/Frameworks/Python.framework/Versions/3.13/lib/python3.13/site-packages/sklearn/utils/extmath.py:590: RuntimeWarning: divide by zero encountered in matmul\n",
            "  U = Q @ Uhat\n",
            "/Library/Frameworks/Python.framework/Versions/3.13/lib/python3.13/site-packages/sklearn/utils/extmath.py:590: RuntimeWarning: overflow encountered in matmul\n",
            "  U = Q @ Uhat\n",
            "/Library/Frameworks/Python.framework/Versions/3.13/lib/python3.13/site-packages/sklearn/utils/extmath.py:590: RuntimeWarning: invalid value encountered in matmul\n",
            "  U = Q @ Uhat\n",
            "/Library/Frameworks/Python.framework/Versions/3.13/lib/python3.13/site-packages/sklearn/utils/extmath.py:350: RuntimeWarning: divide by zero encountered in matmul\n",
            "  Q, _ = normalizer(A @ Q)\n",
            "/Library/Frameworks/Python.framework/Versions/3.13/lib/python3.13/site-packages/sklearn/utils/extmath.py:350: RuntimeWarning: overflow encountered in matmul\n",
            "  Q, _ = normalizer(A @ Q)\n",
            "/Library/Frameworks/Python.framework/Versions/3.13/lib/python3.13/site-packages/sklearn/utils/extmath.py:350: RuntimeWarning: invalid value encountered in matmul\n",
            "  Q, _ = normalizer(A @ Q)\n",
            "/Library/Frameworks/Python.framework/Versions/3.13/lib/python3.13/site-packages/sklearn/utils/extmath.py:351: RuntimeWarning: divide by zero encountered in matmul\n",
            "  Q, _ = normalizer(A.T @ Q)\n",
            "/Library/Frameworks/Python.framework/Versions/3.13/lib/python3.13/site-packages/sklearn/utils/extmath.py:351: RuntimeWarning: overflow encountered in matmul\n",
            "  Q, _ = normalizer(A.T @ Q)\n",
            "/Library/Frameworks/Python.framework/Versions/3.13/lib/python3.13/site-packages/sklearn/utils/extmath.py:351: RuntimeWarning: invalid value encountered in matmul\n",
            "  Q, _ = normalizer(A.T @ Q)\n",
            "/Library/Frameworks/Python.framework/Versions/3.13/lib/python3.13/site-packages/sklearn/utils/extmath.py:355: RuntimeWarning: divide by zero encountered in matmul\n",
            "  Q, _ = qr_normalizer(A @ Q)\n",
            "/Library/Frameworks/Python.framework/Versions/3.13/lib/python3.13/site-packages/sklearn/utils/extmath.py:355: RuntimeWarning: overflow encountered in matmul\n",
            "  Q, _ = qr_normalizer(A @ Q)\n",
            "/Library/Frameworks/Python.framework/Versions/3.13/lib/python3.13/site-packages/sklearn/utils/extmath.py:355: RuntimeWarning: invalid value encountered in matmul\n",
            "  Q, _ = qr_normalizer(A @ Q)\n",
            "/Library/Frameworks/Python.framework/Versions/3.13/lib/python3.13/site-packages/sklearn/utils/extmath.py:577: RuntimeWarning: divide by zero encountered in matmul\n",
            "  B = Q.T @ M\n",
            "/Library/Frameworks/Python.framework/Versions/3.13/lib/python3.13/site-packages/sklearn/utils/extmath.py:577: RuntimeWarning: overflow encountered in matmul\n",
            "  B = Q.T @ M\n",
            "/Library/Frameworks/Python.framework/Versions/3.13/lib/python3.13/site-packages/sklearn/utils/extmath.py:577: RuntimeWarning: invalid value encountered in matmul\n",
            "  B = Q.T @ M\n",
            "/Library/Frameworks/Python.framework/Versions/3.13/lib/python3.13/site-packages/sklearn/utils/extmath.py:590: RuntimeWarning: divide by zero encountered in matmul\n",
            "  U = Q @ Uhat\n",
            "/Library/Frameworks/Python.framework/Versions/3.13/lib/python3.13/site-packages/sklearn/utils/extmath.py:590: RuntimeWarning: overflow encountered in matmul\n",
            "  U = Q @ Uhat\n",
            "/Library/Frameworks/Python.framework/Versions/3.13/lib/python3.13/site-packages/sklearn/utils/extmath.py:590: RuntimeWarning: invalid value encountered in matmul\n",
            "  U = Q @ Uhat\n",
            "/Library/Frameworks/Python.framework/Versions/3.13/lib/python3.13/site-packages/sklearn/utils/extmath.py:350: RuntimeWarning: divide by zero encountered in matmul\n",
            "  Q, _ = normalizer(A @ Q)\n",
            "/Library/Frameworks/Python.framework/Versions/3.13/lib/python3.13/site-packages/sklearn/utils/extmath.py:350: RuntimeWarning: overflow encountered in matmul\n",
            "  Q, _ = normalizer(A @ Q)\n",
            "/Library/Frameworks/Python.framework/Versions/3.13/lib/python3.13/site-packages/sklearn/utils/extmath.py:350: RuntimeWarning: invalid value encountered in matmul\n",
            "  Q, _ = normalizer(A @ Q)\n",
            "/Library/Frameworks/Python.framework/Versions/3.13/lib/python3.13/site-packages/sklearn/utils/extmath.py:351: RuntimeWarning: divide by zero encountered in matmul\n",
            "  Q, _ = normalizer(A.T @ Q)\n",
            "/Library/Frameworks/Python.framework/Versions/3.13/lib/python3.13/site-packages/sklearn/utils/extmath.py:351: RuntimeWarning: overflow encountered in matmul\n",
            "  Q, _ = normalizer(A.T @ Q)\n",
            "/Library/Frameworks/Python.framework/Versions/3.13/lib/python3.13/site-packages/sklearn/utils/extmath.py:351: RuntimeWarning: invalid value encountered in matmul\n",
            "  Q, _ = normalizer(A.T @ Q)\n",
            "/Library/Frameworks/Python.framework/Versions/3.13/lib/python3.13/site-packages/sklearn/utils/extmath.py:355: RuntimeWarning: divide by zero encountered in matmul\n",
            "  Q, _ = qr_normalizer(A @ Q)\n",
            "/Library/Frameworks/Python.framework/Versions/3.13/lib/python3.13/site-packages/sklearn/utils/extmath.py:355: RuntimeWarning: overflow encountered in matmul\n",
            "  Q, _ = qr_normalizer(A @ Q)\n",
            "/Library/Frameworks/Python.framework/Versions/3.13/lib/python3.13/site-packages/sklearn/utils/extmath.py:355: RuntimeWarning: invalid value encountered in matmul\n",
            "  Q, _ = qr_normalizer(A @ Q)\n",
            "/Library/Frameworks/Python.framework/Versions/3.13/lib/python3.13/site-packages/sklearn/utils/extmath.py:577: RuntimeWarning: divide by zero encountered in matmul\n",
            "  B = Q.T @ M\n",
            "/Library/Frameworks/Python.framework/Versions/3.13/lib/python3.13/site-packages/sklearn/utils/extmath.py:577: RuntimeWarning: overflow encountered in matmul\n",
            "  B = Q.T @ M\n",
            "/Library/Frameworks/Python.framework/Versions/3.13/lib/python3.13/site-packages/sklearn/utils/extmath.py:577: RuntimeWarning: invalid value encountered in matmul\n",
            "  B = Q.T @ M\n",
            "/Library/Frameworks/Python.framework/Versions/3.13/lib/python3.13/site-packages/sklearn/utils/extmath.py:590: RuntimeWarning: divide by zero encountered in matmul\n",
            "  U = Q @ Uhat\n",
            "/Library/Frameworks/Python.framework/Versions/3.13/lib/python3.13/site-packages/sklearn/utils/extmath.py:590: RuntimeWarning: overflow encountered in matmul\n",
            "  U = Q @ Uhat\n",
            "/Library/Frameworks/Python.framework/Versions/3.13/lib/python3.13/site-packages/sklearn/utils/extmath.py:590: RuntimeWarning: invalid value encountered in matmul\n",
            "  U = Q @ Uhat\n",
            "/Library/Frameworks/Python.framework/Versions/3.13/lib/python3.13/site-packages/sklearn/utils/extmath.py:350: RuntimeWarning: divide by zero encountered in matmul\n",
            "  Q, _ = normalizer(A @ Q)\n",
            "/Library/Frameworks/Python.framework/Versions/3.13/lib/python3.13/site-packages/sklearn/utils/extmath.py:350: RuntimeWarning: overflow encountered in matmul\n",
            "  Q, _ = normalizer(A @ Q)\n",
            "/Library/Frameworks/Python.framework/Versions/3.13/lib/python3.13/site-packages/sklearn/utils/extmath.py:350: RuntimeWarning: invalid value encountered in matmul\n",
            "  Q, _ = normalizer(A @ Q)\n",
            "/Library/Frameworks/Python.framework/Versions/3.13/lib/python3.13/site-packages/sklearn/utils/extmath.py:351: RuntimeWarning: divide by zero encountered in matmul\n",
            "  Q, _ = normalizer(A.T @ Q)\n",
            "/Library/Frameworks/Python.framework/Versions/3.13/lib/python3.13/site-packages/sklearn/utils/extmath.py:351: RuntimeWarning: overflow encountered in matmul\n",
            "  Q, _ = normalizer(A.T @ Q)\n",
            "/Library/Frameworks/Python.framework/Versions/3.13/lib/python3.13/site-packages/sklearn/utils/extmath.py:351: RuntimeWarning: invalid value encountered in matmul\n",
            "  Q, _ = normalizer(A.T @ Q)\n",
            "/Library/Frameworks/Python.framework/Versions/3.13/lib/python3.13/site-packages/sklearn/utils/extmath.py:355: RuntimeWarning: divide by zero encountered in matmul\n",
            "  Q, _ = qr_normalizer(A @ Q)\n",
            "/Library/Frameworks/Python.framework/Versions/3.13/lib/python3.13/site-packages/sklearn/utils/extmath.py:355: RuntimeWarning: overflow encountered in matmul\n",
            "  Q, _ = qr_normalizer(A @ Q)\n",
            "/Library/Frameworks/Python.framework/Versions/3.13/lib/python3.13/site-packages/sklearn/utils/extmath.py:355: RuntimeWarning: invalid value encountered in matmul\n",
            "  Q, _ = qr_normalizer(A @ Q)\n",
            "/Library/Frameworks/Python.framework/Versions/3.13/lib/python3.13/site-packages/sklearn/utils/extmath.py:577: RuntimeWarning: divide by zero encountered in matmul\n",
            "  B = Q.T @ M\n",
            "/Library/Frameworks/Python.framework/Versions/3.13/lib/python3.13/site-packages/sklearn/utils/extmath.py:577: RuntimeWarning: overflow encountered in matmul\n",
            "  B = Q.T @ M\n",
            "/Library/Frameworks/Python.framework/Versions/3.13/lib/python3.13/site-packages/sklearn/utils/extmath.py:577: RuntimeWarning: invalid value encountered in matmul\n",
            "  B = Q.T @ M\n",
            "/Library/Frameworks/Python.framework/Versions/3.13/lib/python3.13/site-packages/sklearn/utils/extmath.py:590: RuntimeWarning: divide by zero encountered in matmul\n",
            "  U = Q @ Uhat\n",
            "/Library/Frameworks/Python.framework/Versions/3.13/lib/python3.13/site-packages/sklearn/utils/extmath.py:590: RuntimeWarning: overflow encountered in matmul\n",
            "  U = Q @ Uhat\n",
            "/Library/Frameworks/Python.framework/Versions/3.13/lib/python3.13/site-packages/sklearn/utils/extmath.py:590: RuntimeWarning: invalid value encountered in matmul\n",
            "  U = Q @ Uhat\n",
            "/Library/Frameworks/Python.framework/Versions/3.13/lib/python3.13/site-packages/sklearn/utils/extmath.py:350: RuntimeWarning: divide by zero encountered in matmul\n",
            "  Q, _ = normalizer(A @ Q)\n",
            "/Library/Frameworks/Python.framework/Versions/3.13/lib/python3.13/site-packages/sklearn/utils/extmath.py:350: RuntimeWarning: overflow encountered in matmul\n",
            "  Q, _ = normalizer(A @ Q)\n",
            "/Library/Frameworks/Python.framework/Versions/3.13/lib/python3.13/site-packages/sklearn/utils/extmath.py:350: RuntimeWarning: invalid value encountered in matmul\n",
            "  Q, _ = normalizer(A @ Q)\n",
            "/Library/Frameworks/Python.framework/Versions/3.13/lib/python3.13/site-packages/sklearn/utils/extmath.py:351: RuntimeWarning: divide by zero encountered in matmul\n",
            "  Q, _ = normalizer(A.T @ Q)\n",
            "/Library/Frameworks/Python.framework/Versions/3.13/lib/python3.13/site-packages/sklearn/utils/extmath.py:351: RuntimeWarning: overflow encountered in matmul\n",
            "  Q, _ = normalizer(A.T @ Q)\n",
            "/Library/Frameworks/Python.framework/Versions/3.13/lib/python3.13/site-packages/sklearn/utils/extmath.py:351: RuntimeWarning: invalid value encountered in matmul\n",
            "  Q, _ = normalizer(A.T @ Q)\n",
            "/Library/Frameworks/Python.framework/Versions/3.13/lib/python3.13/site-packages/sklearn/utils/extmath.py:355: RuntimeWarning: divide by zero encountered in matmul\n",
            "  Q, _ = qr_normalizer(A @ Q)\n",
            "/Library/Frameworks/Python.framework/Versions/3.13/lib/python3.13/site-packages/sklearn/utils/extmath.py:355: RuntimeWarning: overflow encountered in matmul\n",
            "  Q, _ = qr_normalizer(A @ Q)\n",
            "/Library/Frameworks/Python.framework/Versions/3.13/lib/python3.13/site-packages/sklearn/utils/extmath.py:355: RuntimeWarning: invalid value encountered in matmul\n",
            "  Q, _ = qr_normalizer(A @ Q)\n",
            "/Library/Frameworks/Python.framework/Versions/3.13/lib/python3.13/site-packages/sklearn/utils/extmath.py:577: RuntimeWarning: divide by zero encountered in matmul\n",
            "  B = Q.T @ M\n",
            "/Library/Frameworks/Python.framework/Versions/3.13/lib/python3.13/site-packages/sklearn/utils/extmath.py:577: RuntimeWarning: overflow encountered in matmul\n",
            "  B = Q.T @ M\n",
            "/Library/Frameworks/Python.framework/Versions/3.13/lib/python3.13/site-packages/sklearn/utils/extmath.py:577: RuntimeWarning: invalid value encountered in matmul\n",
            "  B = Q.T @ M\n",
            "/Library/Frameworks/Python.framework/Versions/3.13/lib/python3.13/site-packages/sklearn/utils/extmath.py:590: RuntimeWarning: divide by zero encountered in matmul\n",
            "  U = Q @ Uhat\n",
            "/Library/Frameworks/Python.framework/Versions/3.13/lib/python3.13/site-packages/sklearn/utils/extmath.py:590: RuntimeWarning: overflow encountered in matmul\n",
            "  U = Q @ Uhat\n",
            "/Library/Frameworks/Python.framework/Versions/3.13/lib/python3.13/site-packages/sklearn/utils/extmath.py:590: RuntimeWarning: invalid value encountered in matmul\n",
            "  U = Q @ Uhat\n",
            "/Library/Frameworks/Python.framework/Versions/3.13/lib/python3.13/site-packages/sklearn/utils/extmath.py:350: RuntimeWarning: divide by zero encountered in matmul\n",
            "  Q, _ = normalizer(A @ Q)\n",
            "/Library/Frameworks/Python.framework/Versions/3.13/lib/python3.13/site-packages/sklearn/utils/extmath.py:350: RuntimeWarning: overflow encountered in matmul\n",
            "  Q, _ = normalizer(A @ Q)\n",
            "/Library/Frameworks/Python.framework/Versions/3.13/lib/python3.13/site-packages/sklearn/utils/extmath.py:350: RuntimeWarning: invalid value encountered in matmul\n",
            "  Q, _ = normalizer(A @ Q)\n",
            "/Library/Frameworks/Python.framework/Versions/3.13/lib/python3.13/site-packages/sklearn/utils/extmath.py:351: RuntimeWarning: divide by zero encountered in matmul\n",
            "  Q, _ = normalizer(A.T @ Q)\n",
            "/Library/Frameworks/Python.framework/Versions/3.13/lib/python3.13/site-packages/sklearn/utils/extmath.py:351: RuntimeWarning: overflow encountered in matmul\n",
            "  Q, _ = normalizer(A.T @ Q)\n",
            "/Library/Frameworks/Python.framework/Versions/3.13/lib/python3.13/site-packages/sklearn/utils/extmath.py:351: RuntimeWarning: invalid value encountered in matmul\n",
            "  Q, _ = normalizer(A.T @ Q)\n",
            "/Library/Frameworks/Python.framework/Versions/3.13/lib/python3.13/site-packages/sklearn/utils/extmath.py:355: RuntimeWarning: divide by zero encountered in matmul\n",
            "  Q, _ = qr_normalizer(A @ Q)\n",
            "/Library/Frameworks/Python.framework/Versions/3.13/lib/python3.13/site-packages/sklearn/utils/extmath.py:355: RuntimeWarning: overflow encountered in matmul\n",
            "  Q, _ = qr_normalizer(A @ Q)\n",
            "/Library/Frameworks/Python.framework/Versions/3.13/lib/python3.13/site-packages/sklearn/utils/extmath.py:355: RuntimeWarning: invalid value encountered in matmul\n",
            "  Q, _ = qr_normalizer(A @ Q)\n",
            "/Library/Frameworks/Python.framework/Versions/3.13/lib/python3.13/site-packages/sklearn/utils/extmath.py:577: RuntimeWarning: divide by zero encountered in matmul\n",
            "  B = Q.T @ M\n",
            "/Library/Frameworks/Python.framework/Versions/3.13/lib/python3.13/site-packages/sklearn/utils/extmath.py:577: RuntimeWarning: overflow encountered in matmul\n",
            "  B = Q.T @ M\n",
            "/Library/Frameworks/Python.framework/Versions/3.13/lib/python3.13/site-packages/sklearn/utils/extmath.py:577: RuntimeWarning: invalid value encountered in matmul\n",
            "  B = Q.T @ M\n",
            "/Library/Frameworks/Python.framework/Versions/3.13/lib/python3.13/site-packages/sklearn/utils/extmath.py:590: RuntimeWarning: divide by zero encountered in matmul\n",
            "  U = Q @ Uhat\n",
            "/Library/Frameworks/Python.framework/Versions/3.13/lib/python3.13/site-packages/sklearn/utils/extmath.py:590: RuntimeWarning: overflow encountered in matmul\n",
            "  U = Q @ Uhat\n",
            "/Library/Frameworks/Python.framework/Versions/3.13/lib/python3.13/site-packages/sklearn/utils/extmath.py:590: RuntimeWarning: invalid value encountered in matmul\n",
            "  U = Q @ Uhat\n",
            "/Library/Frameworks/Python.framework/Versions/3.13/lib/python3.13/site-packages/sklearn/utils/extmath.py:350: RuntimeWarning: divide by zero encountered in matmul\n",
            "  Q, _ = normalizer(A @ Q)\n",
            "/Library/Frameworks/Python.framework/Versions/3.13/lib/python3.13/site-packages/sklearn/utils/extmath.py:350: RuntimeWarning: overflow encountered in matmul\n",
            "  Q, _ = normalizer(A @ Q)\n",
            "/Library/Frameworks/Python.framework/Versions/3.13/lib/python3.13/site-packages/sklearn/utils/extmath.py:350: RuntimeWarning: invalid value encountered in matmul\n",
            "  Q, _ = normalizer(A @ Q)\n",
            "/Library/Frameworks/Python.framework/Versions/3.13/lib/python3.13/site-packages/sklearn/utils/extmath.py:351: RuntimeWarning: divide by zero encountered in matmul\n",
            "  Q, _ = normalizer(A.T @ Q)\n",
            "/Library/Frameworks/Python.framework/Versions/3.13/lib/python3.13/site-packages/sklearn/utils/extmath.py:351: RuntimeWarning: overflow encountered in matmul\n",
            "  Q, _ = normalizer(A.T @ Q)\n",
            "/Library/Frameworks/Python.framework/Versions/3.13/lib/python3.13/site-packages/sklearn/utils/extmath.py:351: RuntimeWarning: invalid value encountered in matmul\n",
            "  Q, _ = normalizer(A.T @ Q)\n",
            "/Library/Frameworks/Python.framework/Versions/3.13/lib/python3.13/site-packages/sklearn/utils/extmath.py:355: RuntimeWarning: divide by zero encountered in matmul\n",
            "  Q, _ = qr_normalizer(A @ Q)\n",
            "/Library/Frameworks/Python.framework/Versions/3.13/lib/python3.13/site-packages/sklearn/utils/extmath.py:355: RuntimeWarning: overflow encountered in matmul\n",
            "  Q, _ = qr_normalizer(A @ Q)\n",
            "/Library/Frameworks/Python.framework/Versions/3.13/lib/python3.13/site-packages/sklearn/utils/extmath.py:355: RuntimeWarning: invalid value encountered in matmul\n",
            "  Q, _ = qr_normalizer(A @ Q)\n",
            "/Library/Frameworks/Python.framework/Versions/3.13/lib/python3.13/site-packages/sklearn/utils/extmath.py:577: RuntimeWarning: divide by zero encountered in matmul\n",
            "  B = Q.T @ M\n",
            "/Library/Frameworks/Python.framework/Versions/3.13/lib/python3.13/site-packages/sklearn/utils/extmath.py:577: RuntimeWarning: overflow encountered in matmul\n",
            "  B = Q.T @ M\n",
            "/Library/Frameworks/Python.framework/Versions/3.13/lib/python3.13/site-packages/sklearn/utils/extmath.py:577: RuntimeWarning: invalid value encountered in matmul\n",
            "  B = Q.T @ M\n",
            "/Library/Frameworks/Python.framework/Versions/3.13/lib/python3.13/site-packages/sklearn/utils/extmath.py:590: RuntimeWarning: divide by zero encountered in matmul\n",
            "  U = Q @ Uhat\n",
            "/Library/Frameworks/Python.framework/Versions/3.13/lib/python3.13/site-packages/sklearn/utils/extmath.py:590: RuntimeWarning: overflow encountered in matmul\n",
            "  U = Q @ Uhat\n",
            "/Library/Frameworks/Python.framework/Versions/3.13/lib/python3.13/site-packages/sklearn/utils/extmath.py:590: RuntimeWarning: invalid value encountered in matmul\n",
            "  U = Q @ Uhat\n",
            "/Library/Frameworks/Python.framework/Versions/3.13/lib/python3.13/site-packages/sklearn/utils/extmath.py:350: RuntimeWarning: divide by zero encountered in matmul\n",
            "  Q, _ = normalizer(A @ Q)\n",
            "/Library/Frameworks/Python.framework/Versions/3.13/lib/python3.13/site-packages/sklearn/utils/extmath.py:350: RuntimeWarning: overflow encountered in matmul\n",
            "  Q, _ = normalizer(A @ Q)\n",
            "/Library/Frameworks/Python.framework/Versions/3.13/lib/python3.13/site-packages/sklearn/utils/extmath.py:350: RuntimeWarning: invalid value encountered in matmul\n",
            "  Q, _ = normalizer(A @ Q)\n",
            "/Library/Frameworks/Python.framework/Versions/3.13/lib/python3.13/site-packages/sklearn/utils/extmath.py:351: RuntimeWarning: divide by zero encountered in matmul\n",
            "  Q, _ = normalizer(A.T @ Q)\n",
            "/Library/Frameworks/Python.framework/Versions/3.13/lib/python3.13/site-packages/sklearn/utils/extmath.py:351: RuntimeWarning: overflow encountered in matmul\n",
            "  Q, _ = normalizer(A.T @ Q)\n",
            "/Library/Frameworks/Python.framework/Versions/3.13/lib/python3.13/site-packages/sklearn/utils/extmath.py:351: RuntimeWarning: invalid value encountered in matmul\n",
            "  Q, _ = normalizer(A.T @ Q)\n",
            "/Library/Frameworks/Python.framework/Versions/3.13/lib/python3.13/site-packages/sklearn/utils/extmath.py:355: RuntimeWarning: divide by zero encountered in matmul\n",
            "  Q, _ = qr_normalizer(A @ Q)\n",
            "/Library/Frameworks/Python.framework/Versions/3.13/lib/python3.13/site-packages/sklearn/utils/extmath.py:355: RuntimeWarning: overflow encountered in matmul\n",
            "  Q, _ = qr_normalizer(A @ Q)\n",
            "/Library/Frameworks/Python.framework/Versions/3.13/lib/python3.13/site-packages/sklearn/utils/extmath.py:355: RuntimeWarning: invalid value encountered in matmul\n",
            "  Q, _ = qr_normalizer(A @ Q)\n",
            "/Library/Frameworks/Python.framework/Versions/3.13/lib/python3.13/site-packages/sklearn/utils/extmath.py:577: RuntimeWarning: divide by zero encountered in matmul\n",
            "  B = Q.T @ M\n",
            "/Library/Frameworks/Python.framework/Versions/3.13/lib/python3.13/site-packages/sklearn/utils/extmath.py:577: RuntimeWarning: overflow encountered in matmul\n",
            "  B = Q.T @ M\n",
            "/Library/Frameworks/Python.framework/Versions/3.13/lib/python3.13/site-packages/sklearn/utils/extmath.py:577: RuntimeWarning: invalid value encountered in matmul\n",
            "  B = Q.T @ M\n",
            "/Library/Frameworks/Python.framework/Versions/3.13/lib/python3.13/site-packages/sklearn/utils/extmath.py:590: RuntimeWarning: divide by zero encountered in matmul\n",
            "  U = Q @ Uhat\n",
            "/Library/Frameworks/Python.framework/Versions/3.13/lib/python3.13/site-packages/sklearn/utils/extmath.py:590: RuntimeWarning: overflow encountered in matmul\n",
            "  U = Q @ Uhat\n",
            "/Library/Frameworks/Python.framework/Versions/3.13/lib/python3.13/site-packages/sklearn/utils/extmath.py:590: RuntimeWarning: invalid value encountered in matmul\n",
            "  U = Q @ Uhat\n",
            "/Library/Frameworks/Python.framework/Versions/3.13/lib/python3.13/site-packages/sklearn/utils/extmath.py:350: RuntimeWarning: divide by zero encountered in matmul\n",
            "  Q, _ = normalizer(A @ Q)\n",
            "/Library/Frameworks/Python.framework/Versions/3.13/lib/python3.13/site-packages/sklearn/utils/extmath.py:350: RuntimeWarning: overflow encountered in matmul\n",
            "  Q, _ = normalizer(A @ Q)\n",
            "/Library/Frameworks/Python.framework/Versions/3.13/lib/python3.13/site-packages/sklearn/utils/extmath.py:350: RuntimeWarning: invalid value encountered in matmul\n",
            "  Q, _ = normalizer(A @ Q)\n",
            "/Library/Frameworks/Python.framework/Versions/3.13/lib/python3.13/site-packages/sklearn/utils/extmath.py:351: RuntimeWarning: divide by zero encountered in matmul\n",
            "  Q, _ = normalizer(A.T @ Q)\n",
            "/Library/Frameworks/Python.framework/Versions/3.13/lib/python3.13/site-packages/sklearn/utils/extmath.py:351: RuntimeWarning: overflow encountered in matmul\n",
            "  Q, _ = normalizer(A.T @ Q)\n",
            "/Library/Frameworks/Python.framework/Versions/3.13/lib/python3.13/site-packages/sklearn/utils/extmath.py:351: RuntimeWarning: invalid value encountered in matmul\n",
            "  Q, _ = normalizer(A.T @ Q)\n",
            "/Library/Frameworks/Python.framework/Versions/3.13/lib/python3.13/site-packages/sklearn/utils/extmath.py:355: RuntimeWarning: divide by zero encountered in matmul\n",
            "  Q, _ = qr_normalizer(A @ Q)\n",
            "/Library/Frameworks/Python.framework/Versions/3.13/lib/python3.13/site-packages/sklearn/utils/extmath.py:355: RuntimeWarning: overflow encountered in matmul\n",
            "  Q, _ = qr_normalizer(A @ Q)\n",
            "/Library/Frameworks/Python.framework/Versions/3.13/lib/python3.13/site-packages/sklearn/utils/extmath.py:355: RuntimeWarning: invalid value encountered in matmul\n",
            "  Q, _ = qr_normalizer(A @ Q)\n",
            "/Library/Frameworks/Python.framework/Versions/3.13/lib/python3.13/site-packages/sklearn/utils/extmath.py:577: RuntimeWarning: divide by zero encountered in matmul\n",
            "  B = Q.T @ M\n",
            "/Library/Frameworks/Python.framework/Versions/3.13/lib/python3.13/site-packages/sklearn/utils/extmath.py:577: RuntimeWarning: overflow encountered in matmul\n",
            "  B = Q.T @ M\n",
            "/Library/Frameworks/Python.framework/Versions/3.13/lib/python3.13/site-packages/sklearn/utils/extmath.py:577: RuntimeWarning: invalid value encountered in matmul\n",
            "  B = Q.T @ M\n",
            "/Library/Frameworks/Python.framework/Versions/3.13/lib/python3.13/site-packages/sklearn/utils/extmath.py:590: RuntimeWarning: divide by zero encountered in matmul\n",
            "  U = Q @ Uhat\n",
            "/Library/Frameworks/Python.framework/Versions/3.13/lib/python3.13/site-packages/sklearn/utils/extmath.py:590: RuntimeWarning: overflow encountered in matmul\n",
            "  U = Q @ Uhat\n",
            "/Library/Frameworks/Python.framework/Versions/3.13/lib/python3.13/site-packages/sklearn/utils/extmath.py:590: RuntimeWarning: invalid value encountered in matmul\n",
            "  U = Q @ Uhat\n"
          ]
        },
        {
          "name": "stdout",
          "output_type": "stream",
          "text": [
            "Analyzing variance explained across layers...\n",
            "\n",
            "Layer 0:\n",
            "  Embedding dimension: 2048\n",
            "  Components for 95% variance:\n",
            "    - Temporal: 6\n",
            "    - Control: 2\n",
            "\n",
            "Layer 1:\n",
            "  Embedding dimension: 2048\n",
            "  Components for 95% variance:\n",
            "    - Temporal: 6\n",
            "    - Control: 18\n",
            "\n",
            "Layer 2:\n",
            "  Embedding dimension: 2048\n",
            "  Components for 95% variance:\n",
            "    - Temporal: 7\n",
            "    - Control: 30\n",
            "\n",
            "Layer 3:\n",
            "  Embedding dimension: 2048\n",
            "  Components for 95% variance:\n",
            "    - Temporal: 10\n",
            "    - Control: 30\n",
            "\n",
            "Layer 4:\n",
            "  Embedding dimension: 2048\n",
            "  Components for 95% variance:\n",
            "    - Temporal: 16\n",
            "    - Control: 30\n",
            "\n",
            "Layer 5:\n",
            "  Embedding dimension: 2048\n",
            "  Components for 95% variance:\n",
            "    - Temporal: 24\n",
            "    - Control: 32\n",
            "\n",
            "Layer 6:\n",
            "  Embedding dimension: 2048\n",
            "  Components for 95% variance:\n",
            "    - Temporal: 26\n",
            "    - Control: 32\n",
            "\n",
            "Layer 7:\n",
            "  Embedding dimension: 2048\n",
            "  Components for 95% variance:\n",
            "    - Temporal: 29\n",
            "    - Control: 31\n",
            "\n",
            "Layer 8:\n",
            "  Embedding dimension: 2048\n",
            "  Components for 95% variance:\n",
            "    - Temporal: 29\n",
            "    - Control: 31\n",
            "\n"
          ]
        },
        {
          "name": "stderr",
          "output_type": "stream",
          "text": [
            "/Library/Frameworks/Python.framework/Versions/3.13/lib/python3.13/site-packages/sklearn/utils/extmath.py:350: RuntimeWarning: divide by zero encountered in matmul\n",
            "  Q, _ = normalizer(A @ Q)\n",
            "/Library/Frameworks/Python.framework/Versions/3.13/lib/python3.13/site-packages/sklearn/utils/extmath.py:350: RuntimeWarning: overflow encountered in matmul\n",
            "  Q, _ = normalizer(A @ Q)\n",
            "/Library/Frameworks/Python.framework/Versions/3.13/lib/python3.13/site-packages/sklearn/utils/extmath.py:350: RuntimeWarning: invalid value encountered in matmul\n",
            "  Q, _ = normalizer(A @ Q)\n",
            "/Library/Frameworks/Python.framework/Versions/3.13/lib/python3.13/site-packages/sklearn/utils/extmath.py:351: RuntimeWarning: divide by zero encountered in matmul\n",
            "  Q, _ = normalizer(A.T @ Q)\n",
            "/Library/Frameworks/Python.framework/Versions/3.13/lib/python3.13/site-packages/sklearn/utils/extmath.py:351: RuntimeWarning: overflow encountered in matmul\n",
            "  Q, _ = normalizer(A.T @ Q)\n",
            "/Library/Frameworks/Python.framework/Versions/3.13/lib/python3.13/site-packages/sklearn/utils/extmath.py:351: RuntimeWarning: invalid value encountered in matmul\n",
            "  Q, _ = normalizer(A.T @ Q)\n",
            "/Library/Frameworks/Python.framework/Versions/3.13/lib/python3.13/site-packages/sklearn/utils/extmath.py:355: RuntimeWarning: divide by zero encountered in matmul\n",
            "  Q, _ = qr_normalizer(A @ Q)\n",
            "/Library/Frameworks/Python.framework/Versions/3.13/lib/python3.13/site-packages/sklearn/utils/extmath.py:355: RuntimeWarning: overflow encountered in matmul\n",
            "  Q, _ = qr_normalizer(A @ Q)\n",
            "/Library/Frameworks/Python.framework/Versions/3.13/lib/python3.13/site-packages/sklearn/utils/extmath.py:355: RuntimeWarning: invalid value encountered in matmul\n",
            "  Q, _ = qr_normalizer(A @ Q)\n",
            "/Library/Frameworks/Python.framework/Versions/3.13/lib/python3.13/site-packages/sklearn/utils/extmath.py:577: RuntimeWarning: divide by zero encountered in matmul\n",
            "  B = Q.T @ M\n",
            "/Library/Frameworks/Python.framework/Versions/3.13/lib/python3.13/site-packages/sklearn/utils/extmath.py:577: RuntimeWarning: overflow encountered in matmul\n",
            "  B = Q.T @ M\n",
            "/Library/Frameworks/Python.framework/Versions/3.13/lib/python3.13/site-packages/sklearn/utils/extmath.py:577: RuntimeWarning: invalid value encountered in matmul\n",
            "  B = Q.T @ M\n",
            "/Library/Frameworks/Python.framework/Versions/3.13/lib/python3.13/site-packages/sklearn/utils/extmath.py:590: RuntimeWarning: divide by zero encountered in matmul\n",
            "  U = Q @ Uhat\n",
            "/Library/Frameworks/Python.framework/Versions/3.13/lib/python3.13/site-packages/sklearn/utils/extmath.py:590: RuntimeWarning: overflow encountered in matmul\n",
            "  U = Q @ Uhat\n",
            "/Library/Frameworks/Python.framework/Versions/3.13/lib/python3.13/site-packages/sklearn/utils/extmath.py:590: RuntimeWarning: invalid value encountered in matmul\n",
            "  U = Q @ Uhat\n",
            "/Library/Frameworks/Python.framework/Versions/3.13/lib/python3.13/site-packages/sklearn/utils/extmath.py:350: RuntimeWarning: divide by zero encountered in matmul\n",
            "  Q, _ = normalizer(A @ Q)\n",
            "/Library/Frameworks/Python.framework/Versions/3.13/lib/python3.13/site-packages/sklearn/utils/extmath.py:350: RuntimeWarning: overflow encountered in matmul\n",
            "  Q, _ = normalizer(A @ Q)\n",
            "/Library/Frameworks/Python.framework/Versions/3.13/lib/python3.13/site-packages/sklearn/utils/extmath.py:350: RuntimeWarning: invalid value encountered in matmul\n",
            "  Q, _ = normalizer(A @ Q)\n",
            "/Library/Frameworks/Python.framework/Versions/3.13/lib/python3.13/site-packages/sklearn/utils/extmath.py:351: RuntimeWarning: divide by zero encountered in matmul\n",
            "  Q, _ = normalizer(A.T @ Q)\n",
            "/Library/Frameworks/Python.framework/Versions/3.13/lib/python3.13/site-packages/sklearn/utils/extmath.py:351: RuntimeWarning: overflow encountered in matmul\n",
            "  Q, _ = normalizer(A.T @ Q)\n",
            "/Library/Frameworks/Python.framework/Versions/3.13/lib/python3.13/site-packages/sklearn/utils/extmath.py:351: RuntimeWarning: invalid value encountered in matmul\n",
            "  Q, _ = normalizer(A.T @ Q)\n",
            "/Library/Frameworks/Python.framework/Versions/3.13/lib/python3.13/site-packages/sklearn/utils/extmath.py:355: RuntimeWarning: divide by zero encountered in matmul\n",
            "  Q, _ = qr_normalizer(A @ Q)\n",
            "/Library/Frameworks/Python.framework/Versions/3.13/lib/python3.13/site-packages/sklearn/utils/extmath.py:355: RuntimeWarning: overflow encountered in matmul\n",
            "  Q, _ = qr_normalizer(A @ Q)\n",
            "/Library/Frameworks/Python.framework/Versions/3.13/lib/python3.13/site-packages/sklearn/utils/extmath.py:355: RuntimeWarning: invalid value encountered in matmul\n",
            "  Q, _ = qr_normalizer(A @ Q)\n",
            "/Library/Frameworks/Python.framework/Versions/3.13/lib/python3.13/site-packages/sklearn/utils/extmath.py:577: RuntimeWarning: divide by zero encountered in matmul\n",
            "  B = Q.T @ M\n",
            "/Library/Frameworks/Python.framework/Versions/3.13/lib/python3.13/site-packages/sklearn/utils/extmath.py:577: RuntimeWarning: overflow encountered in matmul\n",
            "  B = Q.T @ M\n",
            "/Library/Frameworks/Python.framework/Versions/3.13/lib/python3.13/site-packages/sklearn/utils/extmath.py:577: RuntimeWarning: invalid value encountered in matmul\n",
            "  B = Q.T @ M\n",
            "/Library/Frameworks/Python.framework/Versions/3.13/lib/python3.13/site-packages/sklearn/utils/extmath.py:590: RuntimeWarning: divide by zero encountered in matmul\n",
            "  U = Q @ Uhat\n",
            "/Library/Frameworks/Python.framework/Versions/3.13/lib/python3.13/site-packages/sklearn/utils/extmath.py:590: RuntimeWarning: overflow encountered in matmul\n",
            "  U = Q @ Uhat\n",
            "/Library/Frameworks/Python.framework/Versions/3.13/lib/python3.13/site-packages/sklearn/utils/extmath.py:590: RuntimeWarning: invalid value encountered in matmul\n",
            "  U = Q @ Uhat\n",
            "/Library/Frameworks/Python.framework/Versions/3.13/lib/python3.13/site-packages/sklearn/utils/extmath.py:350: RuntimeWarning: divide by zero encountered in matmul\n",
            "  Q, _ = normalizer(A @ Q)\n",
            "/Library/Frameworks/Python.framework/Versions/3.13/lib/python3.13/site-packages/sklearn/utils/extmath.py:350: RuntimeWarning: overflow encountered in matmul\n",
            "  Q, _ = normalizer(A @ Q)\n",
            "/Library/Frameworks/Python.framework/Versions/3.13/lib/python3.13/site-packages/sklearn/utils/extmath.py:350: RuntimeWarning: invalid value encountered in matmul\n",
            "  Q, _ = normalizer(A @ Q)\n",
            "/Library/Frameworks/Python.framework/Versions/3.13/lib/python3.13/site-packages/sklearn/utils/extmath.py:351: RuntimeWarning: divide by zero encountered in matmul\n",
            "  Q, _ = normalizer(A.T @ Q)\n",
            "/Library/Frameworks/Python.framework/Versions/3.13/lib/python3.13/site-packages/sklearn/utils/extmath.py:351: RuntimeWarning: overflow encountered in matmul\n",
            "  Q, _ = normalizer(A.T @ Q)\n",
            "/Library/Frameworks/Python.framework/Versions/3.13/lib/python3.13/site-packages/sklearn/utils/extmath.py:351: RuntimeWarning: invalid value encountered in matmul\n",
            "  Q, _ = normalizer(A.T @ Q)\n",
            "/Library/Frameworks/Python.framework/Versions/3.13/lib/python3.13/site-packages/sklearn/utils/extmath.py:355: RuntimeWarning: divide by zero encountered in matmul\n",
            "  Q, _ = qr_normalizer(A @ Q)\n",
            "/Library/Frameworks/Python.framework/Versions/3.13/lib/python3.13/site-packages/sklearn/utils/extmath.py:355: RuntimeWarning: overflow encountered in matmul\n",
            "  Q, _ = qr_normalizer(A @ Q)\n",
            "/Library/Frameworks/Python.framework/Versions/3.13/lib/python3.13/site-packages/sklearn/utils/extmath.py:355: RuntimeWarning: invalid value encountered in matmul\n",
            "  Q, _ = qr_normalizer(A @ Q)\n",
            "/Library/Frameworks/Python.framework/Versions/3.13/lib/python3.13/site-packages/sklearn/utils/extmath.py:577: RuntimeWarning: divide by zero encountered in matmul\n",
            "  B = Q.T @ M\n",
            "/Library/Frameworks/Python.framework/Versions/3.13/lib/python3.13/site-packages/sklearn/utils/extmath.py:577: RuntimeWarning: overflow encountered in matmul\n",
            "  B = Q.T @ M\n",
            "/Library/Frameworks/Python.framework/Versions/3.13/lib/python3.13/site-packages/sklearn/utils/extmath.py:577: RuntimeWarning: invalid value encountered in matmul\n",
            "  B = Q.T @ M\n"
          ]
        },
        {
          "name": "stdout",
          "output_type": "stream",
          "text": [
            "Layer 9:\n",
            "  Embedding dimension: 2048\n",
            "  Components for 95% variance:\n",
            "    - Temporal: 29\n",
            "    - Control: 30\n",
            "\n",
            "Layer 10:\n",
            "  Embedding dimension: 2048\n",
            "  Components for 95% variance:\n",
            "    - Temporal: 27\n",
            "    - Control: 29\n",
            "\n",
            "Layer 11:\n",
            "  Embedding dimension: 2048\n",
            "  Components for 95% variance:\n",
            "    - Temporal: 24\n",
            "    - Control: 28\n",
            "\n",
            "Layer 12:\n",
            "  Embedding dimension: 2048\n",
            "  Components for 95% variance:\n",
            "    - Temporal: 24\n",
            "    - Control: 29\n",
            "\n",
            "Layer 13:\n",
            "  Embedding dimension: 2048\n",
            "  Components for 95% variance:\n",
            "    - Temporal: 25\n",
            "    - Control: 29\n",
            "\n",
            "Layer 14:\n",
            "  Embedding dimension: 2048\n",
            "  Components for 95% variance:\n",
            "    - Temporal: 24\n",
            "    - Control: 29\n",
            "\n",
            "Layer 15:\n",
            "  Embedding dimension: 2048\n",
            "  Components for 95% variance:\n",
            "    - Temporal: 25\n",
            "    - Control: 30\n",
            "\n",
            "Layer 16:\n",
            "  Embedding dimension: 2048\n",
            "  Components for 95% variance:\n",
            "    - Temporal: 33\n",
            "    - Control: 30\n",
            "\n"
          ]
        },
        {
          "name": "stderr",
          "output_type": "stream",
          "text": [
            "/Library/Frameworks/Python.framework/Versions/3.13/lib/python3.13/site-packages/sklearn/utils/extmath.py:590: RuntimeWarning: divide by zero encountered in matmul\n",
            "  U = Q @ Uhat\n",
            "/Library/Frameworks/Python.framework/Versions/3.13/lib/python3.13/site-packages/sklearn/utils/extmath.py:590: RuntimeWarning: overflow encountered in matmul\n",
            "  U = Q @ Uhat\n",
            "/Library/Frameworks/Python.framework/Versions/3.13/lib/python3.13/site-packages/sklearn/utils/extmath.py:590: RuntimeWarning: invalid value encountered in matmul\n",
            "  U = Q @ Uhat\n",
            "/Library/Frameworks/Python.framework/Versions/3.13/lib/python3.13/site-packages/sklearn/utils/extmath.py:350: RuntimeWarning: divide by zero encountered in matmul\n",
            "  Q, _ = normalizer(A @ Q)\n",
            "/Library/Frameworks/Python.framework/Versions/3.13/lib/python3.13/site-packages/sklearn/utils/extmath.py:350: RuntimeWarning: overflow encountered in matmul\n",
            "  Q, _ = normalizer(A @ Q)\n",
            "/Library/Frameworks/Python.framework/Versions/3.13/lib/python3.13/site-packages/sklearn/utils/extmath.py:350: RuntimeWarning: invalid value encountered in matmul\n",
            "  Q, _ = normalizer(A @ Q)\n",
            "/Library/Frameworks/Python.framework/Versions/3.13/lib/python3.13/site-packages/sklearn/utils/extmath.py:351: RuntimeWarning: divide by zero encountered in matmul\n",
            "  Q, _ = normalizer(A.T @ Q)\n",
            "/Library/Frameworks/Python.framework/Versions/3.13/lib/python3.13/site-packages/sklearn/utils/extmath.py:351: RuntimeWarning: overflow encountered in matmul\n",
            "  Q, _ = normalizer(A.T @ Q)\n",
            "/Library/Frameworks/Python.framework/Versions/3.13/lib/python3.13/site-packages/sklearn/utils/extmath.py:351: RuntimeWarning: invalid value encountered in matmul\n",
            "  Q, _ = normalizer(A.T @ Q)\n",
            "/Library/Frameworks/Python.framework/Versions/3.13/lib/python3.13/site-packages/sklearn/utils/extmath.py:355: RuntimeWarning: divide by zero encountered in matmul\n",
            "  Q, _ = qr_normalizer(A @ Q)\n",
            "/Library/Frameworks/Python.framework/Versions/3.13/lib/python3.13/site-packages/sklearn/utils/extmath.py:355: RuntimeWarning: overflow encountered in matmul\n",
            "  Q, _ = qr_normalizer(A @ Q)\n",
            "/Library/Frameworks/Python.framework/Versions/3.13/lib/python3.13/site-packages/sklearn/utils/extmath.py:355: RuntimeWarning: invalid value encountered in matmul\n",
            "  Q, _ = qr_normalizer(A @ Q)\n",
            "/Library/Frameworks/Python.framework/Versions/3.13/lib/python3.13/site-packages/sklearn/utils/extmath.py:577: RuntimeWarning: divide by zero encountered in matmul\n",
            "  B = Q.T @ M\n",
            "/Library/Frameworks/Python.framework/Versions/3.13/lib/python3.13/site-packages/sklearn/utils/extmath.py:577: RuntimeWarning: overflow encountered in matmul\n",
            "  B = Q.T @ M\n",
            "/Library/Frameworks/Python.framework/Versions/3.13/lib/python3.13/site-packages/sklearn/utils/extmath.py:577: RuntimeWarning: invalid value encountered in matmul\n",
            "  B = Q.T @ M\n",
            "/Library/Frameworks/Python.framework/Versions/3.13/lib/python3.13/site-packages/sklearn/utils/extmath.py:590: RuntimeWarning: divide by zero encountered in matmul\n",
            "  U = Q @ Uhat\n",
            "/Library/Frameworks/Python.framework/Versions/3.13/lib/python3.13/site-packages/sklearn/utils/extmath.py:590: RuntimeWarning: overflow encountered in matmul\n",
            "  U = Q @ Uhat\n",
            "/Library/Frameworks/Python.framework/Versions/3.13/lib/python3.13/site-packages/sklearn/utils/extmath.py:590: RuntimeWarning: invalid value encountered in matmul\n",
            "  U = Q @ Uhat\n",
            "/Library/Frameworks/Python.framework/Versions/3.13/lib/python3.13/site-packages/sklearn/utils/extmath.py:350: RuntimeWarning: divide by zero encountered in matmul\n",
            "  Q, _ = normalizer(A @ Q)\n",
            "/Library/Frameworks/Python.framework/Versions/3.13/lib/python3.13/site-packages/sklearn/utils/extmath.py:350: RuntimeWarning: overflow encountered in matmul\n",
            "  Q, _ = normalizer(A @ Q)\n",
            "/Library/Frameworks/Python.framework/Versions/3.13/lib/python3.13/site-packages/sklearn/utils/extmath.py:350: RuntimeWarning: invalid value encountered in matmul\n",
            "  Q, _ = normalizer(A @ Q)\n",
            "/Library/Frameworks/Python.framework/Versions/3.13/lib/python3.13/site-packages/sklearn/utils/extmath.py:351: RuntimeWarning: divide by zero encountered in matmul\n",
            "  Q, _ = normalizer(A.T @ Q)\n",
            "/Library/Frameworks/Python.framework/Versions/3.13/lib/python3.13/site-packages/sklearn/utils/extmath.py:351: RuntimeWarning: overflow encountered in matmul\n",
            "  Q, _ = normalizer(A.T @ Q)\n",
            "/Library/Frameworks/Python.framework/Versions/3.13/lib/python3.13/site-packages/sklearn/utils/extmath.py:351: RuntimeWarning: invalid value encountered in matmul\n",
            "  Q, _ = normalizer(A.T @ Q)\n",
            "/Library/Frameworks/Python.framework/Versions/3.13/lib/python3.13/site-packages/sklearn/utils/extmath.py:355: RuntimeWarning: divide by zero encountered in matmul\n",
            "  Q, _ = qr_normalizer(A @ Q)\n",
            "/Library/Frameworks/Python.framework/Versions/3.13/lib/python3.13/site-packages/sklearn/utils/extmath.py:355: RuntimeWarning: overflow encountered in matmul\n",
            "  Q, _ = qr_normalizer(A @ Q)\n",
            "/Library/Frameworks/Python.framework/Versions/3.13/lib/python3.13/site-packages/sklearn/utils/extmath.py:355: RuntimeWarning: invalid value encountered in matmul\n",
            "  Q, _ = qr_normalizer(A @ Q)\n",
            "/Library/Frameworks/Python.framework/Versions/3.13/lib/python3.13/site-packages/sklearn/utils/extmath.py:577: RuntimeWarning: divide by zero encountered in matmul\n",
            "  B = Q.T @ M\n",
            "/Library/Frameworks/Python.framework/Versions/3.13/lib/python3.13/site-packages/sklearn/utils/extmath.py:577: RuntimeWarning: overflow encountered in matmul\n",
            "  B = Q.T @ M\n",
            "/Library/Frameworks/Python.framework/Versions/3.13/lib/python3.13/site-packages/sklearn/utils/extmath.py:577: RuntimeWarning: invalid value encountered in matmul\n",
            "  B = Q.T @ M\n",
            "/Library/Frameworks/Python.framework/Versions/3.13/lib/python3.13/site-packages/sklearn/utils/extmath.py:590: RuntimeWarning: divide by zero encountered in matmul\n",
            "  U = Q @ Uhat\n",
            "/Library/Frameworks/Python.framework/Versions/3.13/lib/python3.13/site-packages/sklearn/utils/extmath.py:590: RuntimeWarning: overflow encountered in matmul\n",
            "  U = Q @ Uhat\n",
            "/Library/Frameworks/Python.framework/Versions/3.13/lib/python3.13/site-packages/sklearn/utils/extmath.py:590: RuntimeWarning: invalid value encountered in matmul\n",
            "  U = Q @ Uhat\n",
            "/Library/Frameworks/Python.framework/Versions/3.13/lib/python3.13/site-packages/sklearn/utils/extmath.py:350: RuntimeWarning: divide by zero encountered in matmul\n",
            "  Q, _ = normalizer(A @ Q)\n",
            "/Library/Frameworks/Python.framework/Versions/3.13/lib/python3.13/site-packages/sklearn/utils/extmath.py:350: RuntimeWarning: overflow encountered in matmul\n",
            "  Q, _ = normalizer(A @ Q)\n",
            "/Library/Frameworks/Python.framework/Versions/3.13/lib/python3.13/site-packages/sklearn/utils/extmath.py:350: RuntimeWarning: invalid value encountered in matmul\n",
            "  Q, _ = normalizer(A @ Q)\n",
            "/Library/Frameworks/Python.framework/Versions/3.13/lib/python3.13/site-packages/sklearn/utils/extmath.py:351: RuntimeWarning: divide by zero encountered in matmul\n",
            "  Q, _ = normalizer(A.T @ Q)\n",
            "/Library/Frameworks/Python.framework/Versions/3.13/lib/python3.13/site-packages/sklearn/utils/extmath.py:351: RuntimeWarning: overflow encountered in matmul\n",
            "  Q, _ = normalizer(A.T @ Q)\n",
            "/Library/Frameworks/Python.framework/Versions/3.13/lib/python3.13/site-packages/sklearn/utils/extmath.py:351: RuntimeWarning: invalid value encountered in matmul\n",
            "  Q, _ = normalizer(A.T @ Q)\n",
            "/Library/Frameworks/Python.framework/Versions/3.13/lib/python3.13/site-packages/sklearn/utils/extmath.py:355: RuntimeWarning: divide by zero encountered in matmul\n",
            "  Q, _ = qr_normalizer(A @ Q)\n",
            "/Library/Frameworks/Python.framework/Versions/3.13/lib/python3.13/site-packages/sklearn/utils/extmath.py:355: RuntimeWarning: overflow encountered in matmul\n",
            "  Q, _ = qr_normalizer(A @ Q)\n",
            "/Library/Frameworks/Python.framework/Versions/3.13/lib/python3.13/site-packages/sklearn/utils/extmath.py:355: RuntimeWarning: invalid value encountered in matmul\n",
            "  Q, _ = qr_normalizer(A @ Q)\n",
            "/Library/Frameworks/Python.framework/Versions/3.13/lib/python3.13/site-packages/sklearn/utils/extmath.py:577: RuntimeWarning: divide by zero encountered in matmul\n",
            "  B = Q.T @ M\n",
            "/Library/Frameworks/Python.framework/Versions/3.13/lib/python3.13/site-packages/sklearn/utils/extmath.py:577: RuntimeWarning: overflow encountered in matmul\n",
            "  B = Q.T @ M\n",
            "/Library/Frameworks/Python.framework/Versions/3.13/lib/python3.13/site-packages/sklearn/utils/extmath.py:577: RuntimeWarning: invalid value encountered in matmul\n",
            "  B = Q.T @ M\n",
            "/Library/Frameworks/Python.framework/Versions/3.13/lib/python3.13/site-packages/sklearn/utils/extmath.py:590: RuntimeWarning: divide by zero encountered in matmul\n",
            "  U = Q @ Uhat\n",
            "/Library/Frameworks/Python.framework/Versions/3.13/lib/python3.13/site-packages/sklearn/utils/extmath.py:590: RuntimeWarning: overflow encountered in matmul\n",
            "  U = Q @ Uhat\n",
            "/Library/Frameworks/Python.framework/Versions/3.13/lib/python3.13/site-packages/sklearn/utils/extmath.py:590: RuntimeWarning: invalid value encountered in matmul\n",
            "  U = Q @ Uhat\n",
            "/Library/Frameworks/Python.framework/Versions/3.13/lib/python3.13/site-packages/sklearn/utils/extmath.py:350: RuntimeWarning: divide by zero encountered in matmul\n",
            "  Q, _ = normalizer(A @ Q)\n",
            "/Library/Frameworks/Python.framework/Versions/3.13/lib/python3.13/site-packages/sklearn/utils/extmath.py:350: RuntimeWarning: overflow encountered in matmul\n",
            "  Q, _ = normalizer(A @ Q)\n",
            "/Library/Frameworks/Python.framework/Versions/3.13/lib/python3.13/site-packages/sklearn/utils/extmath.py:350: RuntimeWarning: invalid value encountered in matmul\n",
            "  Q, _ = normalizer(A @ Q)\n",
            "/Library/Frameworks/Python.framework/Versions/3.13/lib/python3.13/site-packages/sklearn/utils/extmath.py:351: RuntimeWarning: divide by zero encountered in matmul\n",
            "  Q, _ = normalizer(A.T @ Q)\n",
            "/Library/Frameworks/Python.framework/Versions/3.13/lib/python3.13/site-packages/sklearn/utils/extmath.py:351: RuntimeWarning: overflow encountered in matmul\n",
            "  Q, _ = normalizer(A.T @ Q)\n",
            "/Library/Frameworks/Python.framework/Versions/3.13/lib/python3.13/site-packages/sklearn/utils/extmath.py:351: RuntimeWarning: invalid value encountered in matmul\n",
            "  Q, _ = normalizer(A.T @ Q)\n",
            "/Library/Frameworks/Python.framework/Versions/3.13/lib/python3.13/site-packages/sklearn/utils/extmath.py:355: RuntimeWarning: divide by zero encountered in matmul\n",
            "  Q, _ = qr_normalizer(A @ Q)\n",
            "/Library/Frameworks/Python.framework/Versions/3.13/lib/python3.13/site-packages/sklearn/utils/extmath.py:355: RuntimeWarning: overflow encountered in matmul\n",
            "  Q, _ = qr_normalizer(A @ Q)\n",
            "/Library/Frameworks/Python.framework/Versions/3.13/lib/python3.13/site-packages/sklearn/utils/extmath.py:355: RuntimeWarning: invalid value encountered in matmul\n",
            "  Q, _ = qr_normalizer(A @ Q)\n",
            "/Library/Frameworks/Python.framework/Versions/3.13/lib/python3.13/site-packages/sklearn/utils/extmath.py:577: RuntimeWarning: divide by zero encountered in matmul\n",
            "  B = Q.T @ M\n",
            "/Library/Frameworks/Python.framework/Versions/3.13/lib/python3.13/site-packages/sklearn/utils/extmath.py:577: RuntimeWarning: overflow encountered in matmul\n",
            "  B = Q.T @ M\n",
            "/Library/Frameworks/Python.framework/Versions/3.13/lib/python3.13/site-packages/sklearn/utils/extmath.py:577: RuntimeWarning: invalid value encountered in matmul\n",
            "  B = Q.T @ M\n",
            "/Library/Frameworks/Python.framework/Versions/3.13/lib/python3.13/site-packages/sklearn/utils/extmath.py:590: RuntimeWarning: divide by zero encountered in matmul\n",
            "  U = Q @ Uhat\n",
            "/Library/Frameworks/Python.framework/Versions/3.13/lib/python3.13/site-packages/sklearn/utils/extmath.py:590: RuntimeWarning: overflow encountered in matmul\n",
            "  U = Q @ Uhat\n",
            "/Library/Frameworks/Python.framework/Versions/3.13/lib/python3.13/site-packages/sklearn/utils/extmath.py:590: RuntimeWarning: invalid value encountered in matmul\n",
            "  U = Q @ Uhat\n",
            "/Library/Frameworks/Python.framework/Versions/3.13/lib/python3.13/site-packages/sklearn/utils/extmath.py:350: RuntimeWarning: divide by zero encountered in matmul\n",
            "  Q, _ = normalizer(A @ Q)\n",
            "/Library/Frameworks/Python.framework/Versions/3.13/lib/python3.13/site-packages/sklearn/utils/extmath.py:350: RuntimeWarning: overflow encountered in matmul\n",
            "  Q, _ = normalizer(A @ Q)\n",
            "/Library/Frameworks/Python.framework/Versions/3.13/lib/python3.13/site-packages/sklearn/utils/extmath.py:350: RuntimeWarning: invalid value encountered in matmul\n",
            "  Q, _ = normalizer(A @ Q)\n",
            "/Library/Frameworks/Python.framework/Versions/3.13/lib/python3.13/site-packages/sklearn/utils/extmath.py:351: RuntimeWarning: divide by zero encountered in matmul\n",
            "  Q, _ = normalizer(A.T @ Q)\n",
            "/Library/Frameworks/Python.framework/Versions/3.13/lib/python3.13/site-packages/sklearn/utils/extmath.py:351: RuntimeWarning: overflow encountered in matmul\n",
            "  Q, _ = normalizer(A.T @ Q)\n",
            "/Library/Frameworks/Python.framework/Versions/3.13/lib/python3.13/site-packages/sklearn/utils/extmath.py:351: RuntimeWarning: invalid value encountered in matmul\n",
            "  Q, _ = normalizer(A.T @ Q)\n",
            "/Library/Frameworks/Python.framework/Versions/3.13/lib/python3.13/site-packages/sklearn/utils/extmath.py:355: RuntimeWarning: divide by zero encountered in matmul\n",
            "  Q, _ = qr_normalizer(A @ Q)\n",
            "/Library/Frameworks/Python.framework/Versions/3.13/lib/python3.13/site-packages/sklearn/utils/extmath.py:355: RuntimeWarning: overflow encountered in matmul\n",
            "  Q, _ = qr_normalizer(A @ Q)\n",
            "/Library/Frameworks/Python.framework/Versions/3.13/lib/python3.13/site-packages/sklearn/utils/extmath.py:355: RuntimeWarning: invalid value encountered in matmul\n",
            "  Q, _ = qr_normalizer(A @ Q)\n",
            "/Library/Frameworks/Python.framework/Versions/3.13/lib/python3.13/site-packages/sklearn/utils/extmath.py:577: RuntimeWarning: divide by zero encountered in matmul\n",
            "  B = Q.T @ M\n",
            "/Library/Frameworks/Python.framework/Versions/3.13/lib/python3.13/site-packages/sklearn/utils/extmath.py:577: RuntimeWarning: overflow encountered in matmul\n",
            "  B = Q.T @ M\n",
            "/Library/Frameworks/Python.framework/Versions/3.13/lib/python3.13/site-packages/sklearn/utils/extmath.py:577: RuntimeWarning: invalid value encountered in matmul\n",
            "  B = Q.T @ M\n",
            "/Library/Frameworks/Python.framework/Versions/3.13/lib/python3.13/site-packages/sklearn/utils/extmath.py:590: RuntimeWarning: divide by zero encountered in matmul\n",
            "  U = Q @ Uhat\n",
            "/Library/Frameworks/Python.framework/Versions/3.13/lib/python3.13/site-packages/sklearn/utils/extmath.py:590: RuntimeWarning: overflow encountered in matmul\n",
            "  U = Q @ Uhat\n",
            "/Library/Frameworks/Python.framework/Versions/3.13/lib/python3.13/site-packages/sklearn/utils/extmath.py:590: RuntimeWarning: invalid value encountered in matmul\n",
            "  U = Q @ Uhat\n"
          ]
        }
      ],
      "source": [
        "# Analyze variance for all layers\n",
        "temporal_variance_results = {}\n",
        "control_variance_results = {}\n",
        "\n",
        "print(\"Analyzing variance explained across layers...\\n\")\n",
        "\n",
        "for layer_idx in temporal_embeddings.keys():\n",
        "    # Analyze temporal data\n",
        "    temporal_results = analyze_variance_explained(temporal_embeddings[layer_idx], max_components=100)\n",
        "    temporal_variance_results[layer_idx] = temporal_results\n",
        "    \n",
        "    # Analyze control data\n",
        "    control_results = analyze_variance_explained(control_embeddings[layer_idx], max_components=100)\n",
        "    control_variance_results[layer_idx] = control_results\n",
        "    \n",
        "    # Print summary for this layer\n",
        "    print(f\"Layer {layer_idx}:\")\n",
        "    print(f\"  Embedding dimension: {temporal_results['embedding_dim']}\")\n",
        "    print(f\"  Components for 95% variance:\")\n",
        "    print(f\"    - Temporal: {temporal_results['components_needed'][0.95]}\")\n",
        "    print(f\"    - Control: {control_results['components_needed'][0.95]}\")\n",
        "    print()\n"
      ]
    },
    {
      "cell_type": "raw",
      "metadata": {
        "vscode": {
          "languageId": "raw"
        }
      },
      "source": [
        "## 6. Create Summary DataFrame\n"
      ]
    },
    {
      "cell_type": "code",
      "execution_count": 8,
      "metadata": {},
      "outputs": [
        {
          "name": "stdout",
          "output_type": "stream",
          "text": [
            "\n",
            "Summary of components needed for 95% variance:\n",
            "    Layer  Embedding_Dim  Temporal_95%  Control_95%  Temporal_Ratio_95%  \\\n",
            "0       0           2048             6            2            0.002930   \n",
            "1       1           2048             6           18            0.002930   \n",
            "2       2           2048             7           30            0.003418   \n",
            "3       3           2048            10           30            0.004883   \n",
            "4       4           2048            16           30            0.007812   \n",
            "5       5           2048            24           32            0.011719   \n",
            "6       6           2048            26           32            0.012695   \n",
            "7       7           2048            29           31            0.014160   \n",
            "8       8           2048            29           31            0.014160   \n",
            "9       9           2048            29           30            0.014160   \n",
            "10     10           2048            27           29            0.013184   \n",
            "11     11           2048            24           28            0.011719   \n",
            "12     12           2048            24           29            0.011719   \n",
            "13     13           2048            25           29            0.012207   \n",
            "14     14           2048            24           29            0.011719   \n",
            "15     15           2048            25           30            0.012207   \n",
            "16     16           2048            33           30            0.016113   \n",
            "\n",
            "    Control_Ratio_95%  \n",
            "0            0.000977  \n",
            "1            0.008789  \n",
            "2            0.014648  \n",
            "3            0.014648  \n",
            "4            0.014648  \n",
            "5            0.015625  \n",
            "6            0.015625  \n",
            "7            0.015137  \n",
            "8            0.015137  \n",
            "9            0.014648  \n",
            "10           0.014160  \n",
            "11           0.013672  \n",
            "12           0.014160  \n",
            "13           0.014160  \n",
            "14           0.014160  \n",
            "15           0.014648  \n",
            "16           0.014648  \n"
          ]
        }
      ],
      "source": [
        "# Create summary dataframe\n",
        "summary_data = []\n",
        "\n",
        "for layer_idx in temporal_embeddings.keys():\n",
        "    temporal_res = temporal_variance_results[layer_idx]\n",
        "    control_res = control_variance_results[layer_idx]\n",
        "    \n",
        "    summary_data.append({\n",
        "        'Layer': layer_idx,\n",
        "        'Embedding_Dim': temporal_res['embedding_dim'],\n",
        "        'Temporal_95%': temporal_res['components_needed'][0.95],\n",
        "        'Control_95%': control_res['components_needed'][0.95],\n",
        "        'Temporal_90%': temporal_res['components_needed'][0.90],\n",
        "        'Control_90%': control_res['components_needed'][0.90],\n",
        "        'Temporal_99%': temporal_res['components_needed'][0.99],\n",
        "        'Control_99%': control_res['components_needed'][0.99],\n",
        "        'Temporal_Ratio_95%': temporal_res['components_needed'][0.95] / temporal_res['embedding_dim'],\n",
        "        'Control_Ratio_95%': control_res['components_needed'][0.95] / control_res['embedding_dim']\n",
        "    })\n",
        "\n",
        "summary_df = pd.DataFrame(summary_data)\n",
        "print(\"\\nSummary of components needed for 95% variance:\")\n",
        "print(summary_df[['Layer', 'Embedding_Dim', 'Temporal_95%', 'Control_95%', \n",
        "                  'Temporal_Ratio_95%', 'Control_Ratio_95%']])\n"
      ]
    },
    {
      "cell_type": "raw",
      "metadata": {
        "vscode": {
          "languageId": "raw"
        }
      },
      "source": [
        "## 7. Visualizations\n"
      ]
    },
    {
      "cell_type": "raw",
      "metadata": {
        "vscode": {
          "languageId": "raw"
        }
      },
      "source": [
        "### 7.1 Components Needed Across Layers\n"
      ]
    },
    {
      "cell_type": "code",
      "execution_count": 9,
      "metadata": {},
      "outputs": [
        {
          "data": {
            "image/png": "[encoded data removed]",
            "text/plain": [
              "<Figure size 1400x600 with 2 Axes>"
            ]
          },
          "metadata": {},
          "output_type": "display_data"
        }
      ],
      "source": [
        "# Create figure with subplots\n",
        "fig, (ax1, ax2) = plt.subplots(1, 2, figsize=(14, 6))\n",
        "\n",
        "# Plot absolute number of components\n",
        "layers = summary_df['Layer'].values\n",
        "ax1.plot(layers, summary_df['Temporal_95%'], 'o-', label='Temporal', linewidth=2, markersize=8)\n",
        "ax1.plot(layers, summary_df['Control_95%'], 's-', label='Control', linewidth=2, markersize=8)\n",
        "ax1.set_xlabel('Layer', fontsize=12)\n",
        "ax1.set_ylabel('Components Needed', fontsize=12)\n",
        "ax1.set_title('Components Needed for 95% Variance', fontsize=14)\n",
        "ax1.legend(fontsize=12)\n",
        "ax1.grid(True, alpha=0.3)\n",
        "\n",
        "# Plot ratio of components to embedding dimension\n",
        "ax2.plot(layers, summary_df['Temporal_Ratio_95%'] * 100, 'o-', label='Temporal', linewidth=2, markersize=8)\n",
        "ax2.plot(layers, summary_df['Control_Ratio_95%'] * 100, 's-', label='Control', linewidth=2, markersize=8)\n",
        "ax2.set_xlabel('Layer', fontsize=12)\n",
        "ax2.set_ylabel('Percentage of Dimensions (%)', fontsize=12)\n",
        "ax2.set_title('Percentage of Dimensions Needed for 95% Variance', fontsize=14)\n",
        "ax2.legend(fontsize=12)\n",
        "ax2.grid(True, alpha=0.3)\n",
        "\n",
        "plt.tight_layout()\n",
        "plt.savefig('../../../results/figures/variance_analysis/components_needed_95_variance.png', dpi=300, bbox_inches='tight')\n",
        "plt.show()\n"
      ]
    },
    {
      "cell_type": "raw",
      "metadata": {
        "vscode": {
          "languageId": "raw"
        }
      },
      "source": [
        "### 7.2 Variance Explained Curves for Selected Layers\n"
      ]
    },
    {
      "cell_type": "code",
      "execution_count": 10,
      "metadata": {},
      "outputs": [
        {
          "data": {
            "image/png": "[encoded data removed]",
            "text/plain": [
              "<Figure size 2000x400 with 5 Axes>"
            ]
          },
          "metadata": {},
          "output_type": "display_data"
        }
      ],
      "source": [
        "# Select representative layers\n",
        "selected_layers = [0, 4, 8, 12, 16]\n",
        "\n",
        "fig, axes = plt.subplots(1, len(selected_layers), figsize=(20, 4))\n",
        "\n",
        "for idx, layer in enumerate(selected_layers):\n",
        "    ax = axes[idx]\n",
        "    \n",
        "    # Get cumulative variance for first 50 components\n",
        "    temporal_cumvar = temporal_variance_results[layer]['cumulative_variance'][:50]\n",
        "    control_cumvar = control_variance_results[layer]['cumulative_variance'][:50]\n",
        "    \n",
        "    # Plot cumulative variance\n",
        "    ax.plot(range(1, len(temporal_cumvar) + 1), temporal_cumvar * 100, \n",
        "            label='Temporal', linewidth=2)\n",
        "    ax.plot(range(1, len(control_cumvar) + 1), control_cumvar * 100, \n",
        "            label='Control', linewidth=2)\n",
        "    \n",
        "    # Add 95% threshold line\n",
        "    ax.axhline(y=95, color='red', linestyle='--', alpha=0.5, label='95% threshold')\n",
        "    \n",
        "    # Add vertical lines for components needed\n",
        "    temporal_95 = temporal_variance_results[layer]['components_needed'][0.95]\n",
        "    control_95 = control_variance_results[layer]['components_needed'][0.95]\n",
        "    \n",
        "    if temporal_95 <= 50:\n",
        "        ax.axvline(x=temporal_95, color='blue', linestyle=':', alpha=0.7)\n",
        "    if control_95 <= 50:\n",
        "        ax.axvline(x=control_95, color='orange', linestyle=':', alpha=0.7)\n",
        "    \n",
        "    ax.set_xlabel('Number of Components')\n",
        "    ax.set_ylabel('Cumulative Variance (%)')\n",
        "    ax.set_title(f'Layer {layer}')\n",
        "    ax.grid(True, alpha=0.3)\n",
        "    ax.set_xlim(0, 50)\n",
        "    ax.set_ylim(0, 100)\n",
        "    \n",
        "    if idx == 0:\n",
        "        ax.legend()\n",
        "\n",
        "plt.suptitle('Cumulative Variance Explained Across Layers', fontsize=16)\n",
        "plt.tight_layout()\n",
        "plt.savefig('../../../results/figures/variance_analysis/cumulative_variance_curves.png', dpi=300, bbox_inches='tight')\n",
        "plt.show()\n"
      ]
    },
    {
      "cell_type": "raw",
      "metadata": {
        "vscode": {
          "languageId": "raw"
        }
      },
      "source": [
        "### 7.3 Interactive Visualization\n"
      ]
    },
    {
      "cell_type": "code",
      "execution_count": 11,
      "metadata": {},
      "outputs": [
        {
          "data": {
            "application/vnd.plotly.v1+json": {
              "config": {
                "plotlyServerURL": "https://plot.ly"
              },
              "data": [
                {
                  "line": {
                    "color": "#1f77b4",
                    "width": 3
                  },
                  "marker": {
                    "size": 8
                  },
                  "mode": "lines+markers",
                  "name": "Temporal",
                  "type": "scatter",
                  "x": {
                    "bdata": "AAECAwQFBgcICQoLDA0ODxA=",
                    "dtype": "i1"
                  },
                  "xaxis": "x",
                  "y": [
                    6,
                    6,
                    7,
                    10,
                    16,
                    24,
                    26,
                    29,
                    29,
                    29,
                    27,
                    24,
                    24,
                    25,
                    24,
                    25,
                    33
                  ],
                  "yaxis": "y"
                },
                {
                  "line": {
                    "color": "#ff7f0e",
                    "dash": "dash",
                    "width": 3
                  },
                  "marker": {
                    "size": 8
                  },
                  "mode": "lines+markers",
                  "name": "Control",
                  "type": "scatter",
                  "x": {
                    "bdata": "AAECAwQFBgcICQoLDA0ODxA=",
                    "dtype": "i1"
                  },
                  "xaxis": "x",
                  "y": [
                    2,
                    18,
                    30,
                    30,
                    30,
                    32,
                    32,
                    31,
                    31,
                    30,
                    29,
                    28,
                    29,
                    29,
                    29,
                    30,
                    30
                  ],
                  "yaxis": "y"
                },
                {
                  "line": {
                    "color": "#1f77b4",
                    "width": 1
                  },
                  "mode": "lines",
                  "name": "Temporal 90%",
                  "opacity": 0.4,
                  "showlegend": false,
                  "type": "scatter",
                  "x": {
                    "bdata": "AAECAwQFBgcICQoLDA0ODxA=",
                    "dtype": "i1"
                  },
                  "xaxis": "x",
                  "y": [
                    5,
                    5,
                    6,
                    7,
                    10,
                    13,
                    16,
                    17,
                    18,
                    17,
                    16,
                    15,
                    14,
                    16,
                    15,
                    16,
                    19
                  ],
                  "yaxis": "y"
                },
                {
                  "line": {
                    "color": "#1f77b4",
                    "width": 1
                  },
                  "mode": "lines",
                  "name": "Temporal 99%",
                  "opacity": 0.4,
                  "showlegend": false,
                  "type": "scatter",
                  "x": {
                    "bdata": "AAECAwQFBgcICQoLDA0ODxA=",
                    "dtype": "i1"
                  },
                  "xaxis": "x",
                  "y": [
                    6,
                    7,
                    15,
                    28,
                    55,
                    73,
                    77,
                    81,
                    83,
                    80,
                    77,
                    70,
                    72,
                    72,
                    70,
                    76,
                    90
                  ],
                  "yaxis": "y"
                },
                {
                  "line": {
                    "color": "#1f77b4",
                    "width": 3
                  },
                  "marker": {
                    "size": 10
                  },
                  "mode": "lines+markers",
                  "name": "Temporal %",
                  "type": "scatter",
                  "x": {
                    "bdata": "AAECAwQFBgcICQoLDA0ODxA=",
                    "dtype": "i1"
                  },
                  "xaxis": "x2",
                  "y": {
                    "bdata": "AAAAAADA0j8AAAAAAMDSPwAAAAAA4NU/AAAAAABA3z8AAAAAAADpPwAAAAAAwPI/AAAAAABQ9D8AAAAAAKj2PwAAAAAAqPY/AAAAAACo9j8AAAAAABj1PwAAAAAAwPI/AAAAAADA8j8AAAAAAIjzPwAAAAAAwPI/AAAAAACI8z8AAAAAAMj5Pw==",
                    "dtype": "f8"
                  },
                  "yaxis": "y2"
                },
                {
                  "line": {
                    "color": "#ff7f0e",
                    "width": 3
                  },
                  "marker": {
                    "size": 10
                  },
                  "mode": "lines+markers",
                  "name": "Control %",
                  "type": "scatter",
                  "x": {
                    "bdata": "AAECAwQFBgcICQoLDA0ODxA=",
                    "dtype": "i1"
                  },
                  "xaxis": "x2",
                  "y": {
                    "bdata": "AAAAAAAAuT8AAAAAACDsPwAAAAAAcPc/AAAAAABw9z8AAAAAAHD3PwAAAAAAAPk/AAAAAAAA+T8AAAAAADj4PwAAAAAAOPg/AAAAAABw9z8AAAAAAKj2PwAAAAAA4PU/AAAAAACo9j8AAAAAAKj2PwAAAAAAqPY/AAAAAABw9z8AAAAAAHD3Pw==",
                    "dtype": "f8"
                  },
                  "yaxis": "y2"
                },
                {
                  "line": {
                    "color": "#1f77b4",
                    "width": 3
                  },
                  "mode": "lines",
                  "name": "Temporal",
                  "type": "scatter",
                  "x": [
                    1,
                    2,
                    3,
                    4,
                    5,
                    6,
                    7,
                    8,
                    9,
                    10,
                    11,
                    12,
                    13,
                    14,
                    15,
                    16,
                    17,
                    18,
                    19,
                    20,
                    21,
                    22,
                    23,
                    24,
                    25,
                    26,
                    27,
                    28,
                    29,
                    30,
                    31,
                    32,
                    33,
                    34,
                    35,
                    36,
                    37,
                    38,
                    39,
                    40,
                    41,
                    42,
                    43,
                    44,
                    45,
                    46,
                    47,
                    48,
                    49,
                    50
                  ],
                  "xaxis": "x3",
                  "y": {
                    "bdata": "kfuUQRS2BkJazDdCmO1gQiKbfEKd8ohChyKSQvzUmEKMQp5CvB6iQh+hpUJk5ahCXqGrQpQBrkL8LLBCpCGyQon8s0KCnbVCLfC2QhgCuEJ4BblCEvy5QmDAukIJfLtCMi28QuTAvEJ5Qr1Co7y9QgIwvkJAnb5CrwG/Qgtjv0Ilwr9CWxfAQmllwEItrcBCo/LAQgA0wUJXcMFC0qvBQv7gwUKcFcJCTEfCQg13wkIbpcJCj8/CQlD4wkIgIMNC/EXDQrlpw0I=",
                    "dtype": "f4"
                  },
                  "yaxis": "y3"
                },
                {
                  "line": {
                    "color": "#ff7f0e",
                    "width": 3
                  },
                  "mode": "lines",
                  "name": "Control",
                  "type": "scatter",
                  "x": [
                    1,
                    2,
                    3,
                    4,
                    5,
                    6,
                    7,
                    8,
                    9,
                    10,
                    11,
                    12,
                    13,
                    14,
                    15,
                    16,
                    17,
                    18,
                    19,
                    20,
                    21,
                    22,
                    23,
                    24,
                    25,
                    26,
                    27,
                    28,
                    29,
                    30,
                    31,
                    32,
                    33,
                    34,
                    35,
                    36,
                    37,
                    38,
                    39,
                    40,
                    41,
                    42,
                    43,
                    44,
                    45,
                    46,
                    47,
                    48,
                    49,
                    50
                  ],
                  "xaxis": "x3",
                  "y": {
                    "bdata": "AyAdQj4RSUKAs11CXI5uQo3Qe0JY+4NC/5SJQoYzjkJIlJJCBHaWQur8mUIV9JxC9dGfQrhpokIY4qRCHz+nQr1sqUKNeKtCGV+tQvQYr0KazbBC33GyQgT+s0Ldg7VCUv62QjhkuEJVvLlCyfu6QrwsvEIJVL1C6ne+Qgx/v0KSf8BCcm7BQgxLwkI8HMNCBOrDQi2lxEIOVsVCS/TFQr6MxkJeGMdCdY/HQv7/x0L+/8dC",
                    "dtype": "f4"
                  },
                  "yaxis": "y3"
                },
                {
                  "line": {
                    "color": "#1f77b4",
                    "width": 3
                  },
                  "marker": {
                    "size": 8
                  },
                  "mode": "lines+markers",
                  "name": "Temporal 1st PC",
                  "type": "scatter",
                  "x": {
                    "bdata": "AAECAwQFBgcICQoLDA0ODxA=",
                    "dtype": "i1"
                  },
                  "xaxis": "x4",
                  "y": [
                    29.7138729095459,
                    30.054441452026367,
                    27.5725040435791,
                    29.52764892578125,
                    26.13414192199707,
                    23.895095825195312,
                    17.454172134399414,
                    19.239795684814453,
                    18.622835159301758,
                    17.744367599487305,
                    14.649666786193848,
                    15.821107864379883,
                    17.71731185913086,
                    15.326312065124512,
                    17.94717788696289,
                    16.042709350585938,
                    13.5363130569458
                  ],
                  "yaxis": "y4"
                },
                {
                  "line": {
                    "color": "#ff7f0e",
                    "width": 3
                  },
                  "marker": {
                    "size": 8
                  },
                  "mode": "lines+markers",
                  "name": "Control 1st PC",
                  "type": "scatter",
                  "x": {
                    "bdata": "AAECAwQFBgcICQoLDA0ODxA=",
                    "dtype": "i1"
                  },
                  "xaxis": "x4",
                  "y": [
                    61.54133224487305,
                    59.63882827758789,
                    45.21923828125,
                    44.59309387207031,
                    42.583736419677734,
                    39.755550384521484,
                    40.31047821044922,
                    39.998199462890625,
                    39.2812614440918,
                    39.91322326660156,
                    39.67212677001953,
                    44.55244064331055,
                    42.2371940612793,
                    40.49068832397461,
                    39.74275588989258,
                    37.93364715576172,
                    36.94839096069336
                  ],
                  "yaxis": "y4"
                }
              ],
              "layout": {
                "annotations": [
                  {
                    "font": {
                      "size": 16
                    },
                    "showarrow": false,
                    "text": "Components for Variance Thresholds",
                    "x": 0.2125,
                    "xanchor": "center",
                    "xref": "paper",
                    "y": 1,
                    "yanchor": "bottom",
                    "yref": "paper"
                  },
                  {
                    "font": {
                      "size": 16
                    },
                    "showarrow": false,
                    "text": "Dimension Percentage (95% var)",
                    "x": 0.7875,
                    "xanchor": "center",
                    "xref": "paper",
                    "y": 1,
                    "yanchor": "bottom",
                    "yref": "paper"
                  },
                  {
                    "font": {
                      "size": 16
                    },
                    "showarrow": false,
                    "text": "Cumulative Variance - Layer 8",
                    "x": 0.2125,
                    "xanchor": "center",
                    "xref": "paper",
                    "y": 0.375,
                    "yanchor": "bottom",
                    "yref": "paper"
                  },
                  {
                    "font": {
                      "size": 16
                    },
                    "showarrow": false,
                    "text": "First PC Variance by Layer",
                    "x": 0.7875,
                    "xanchor": "center",
                    "xref": "paper",
                    "y": 0.375,
                    "yanchor": "bottom",
                    "yref": "paper"
                  },
                  {
                    "font": {
                      "size": 16
                    },
                    "showarrow": false,
                    "text": "95%",
                    "x": 1,
                    "xanchor": "left",
                    "xref": "x3 domain",
                    "y": 95,
                    "yanchor": "middle",
                    "yref": "y3"
                  }
                ],
                "font": {
                  "size": 12
                },
                "height": 1100,
                "hovermode": "x unified",
                "legend": {
                  "font": {
                    "size": 12
                  },
                  "orientation": "h",
                  "x": 0.5,
                  "xanchor": "center",
                  "y": 1.02,
                  "yanchor": "bottom"
                },
                "plot_bgcolor": "white",
                "shapes": [
                  {
                    "line": {
                      "color": "red",
                      "dash": "dash"
                    },
                    "opacity": 0.7,
                    "type": "line",
                    "x0": 0,
                    "x1": 1,
                    "xref": "x3 domain",
                    "y0": 95,
                    "y1": 95,
                    "yref": "y3"
                  },
                  {
                    "line": {
                      "color": "#1f77b4",
                      "dash": "dot"
                    },
                    "opacity": 0.5,
                    "type": "line",
                    "x0": 29,
                    "x1": 29,
                    "xref": "x3",
                    "y0": 0,
                    "y1": 1,
                    "yref": "y3 domain"
                  },
                  {
                    "line": {
                      "color": "#ff7f0e",
                      "dash": "dot"
                    },
                    "opacity": 0.5,
                    "type": "line",
                    "x0": 31,
                    "x1": 31,
                    "xref": "x3",
                    "y0": 0,
                    "y1": 1,
                    "yref": "y3 domain"
                  }
                ],
                "showlegend": true,
                "template": {
                  "data": {
                    "bar": [
                      {
                        "error_x": {
                          "color": "#2a3f5f"
                        },
                        "error_y": {
                          "color": "#2a3f5f"
                        },
                        "marker": {
                          "line": {
                            "color": "#E5ECF6",
                            "width": 0.5
                          },
                          "pattern": {
                            "fillmode": "overlay",
                            "size": 10,
                            "solidity": 0.2
                          }
                        },
                        "type": "bar"
                      }
                    ],
                    "barpolar": [
                      {
                        "marker": {
                          "line": {
                            "color": "#E5ECF6",
                            "width": 0.5
                          },
                          "pattern": {
                            "fillmode": "overlay",
                            "size": 10,
                            "solidity": 0.2
                          }
                        },
                        "type": "barpolar"
                      }
                    ],
                    "carpet": [
                      {
                        "aaxis": {
                          "endlinecolor": "#2a3f5f",
                          "gridcolor": "white",
                          "linecolor": "white",
                          "minorgridcolor": "white",
                          "startlinecolor": "#2a3f5f"
                        },
                        "baxis": {
                          "endlinecolor": "#2a3f5f",
                          "gridcolor": "white",
                          "linecolor": "white",
                          "minorgridcolor": "white",
                          "startlinecolor": "#2a3f5f"
                        },
                        "type": "carpet"
                      }
                    ],
                    "choropleth": [
                      {
                        "colorbar": {
                          "outlinewidth": 0,
                          "ticks": ""
                        },
                        "type": "choropleth"
                      }
                    ],
                    "contour": [
                      {
                        "colorbar": {
                          "outlinewidth": 0,
                          "ticks": ""
                        },
                        "colorscale": [
                          [
                            0,
                            "#0d0887"
                          ],
                          [
                            0.1111111111111111,
                            "#46039f"
                          ],
                          [
                            0.2222222222222222,
                            "#7201a8"
                          ],
                          [
                            0.3333333333333333,
                            "#9c179e"
                          ],
                          [
                            0.4444444444444444,
                            "#bd3786"
                          ],
                          [
                            0.5555555555555556,
                            "#d8576b"
                          ],
                          [
                            0.6666666666666666,
                            "#ed7953"
                          ],
                          [
                            0.7777777777777778,
                            "#fb9f3a"
                          ],
                          [
                            0.8888888888888888,
                            "#fdca26"
                          ],
                          [
                            1,
                            "#f0f921"
                          ]
                        ],
                        "type": "contour"
                      }
                    ],
                    "contourcarpet": [
                      {
                        "colorbar": {
                          "outlinewidth": 0,
                          "ticks": ""
                        },
                        "type": "contourcarpet"
                      }
                    ],
                    "heatmap": [
                      {
                        "colorbar": {
                          "outlinewidth": 0,
                          "ticks": ""
                        },
                        "colorscale": [
                          [
                            0,
                            "#0d0887"
                          ],
                          [
                            0.1111111111111111,
                            "#46039f"
                          ],
                          [
                            0.2222222222222222,
                            "#7201a8"
                          ],
                          [
                            0.3333333333333333,
                            "#9c179e"
                          ],
                          [
                            0.4444444444444444,
                            "#bd3786"
                          ],
                          [
                            0.5555555555555556,
                            "#d8576b"
                          ],
                          [
                            0.6666666666666666,
                            "#ed7953"
                          ],
                          [
                            0.7777777777777778,
                            "#fb9f3a"
                          ],
                          [
                            0.8888888888888888,
                            "#fdca26"
                          ],
                          [
                            1,
                            "#f0f921"
                          ]
                        ],
                        "type": "heatmap"
                      }
                    ],
                    "histogram": [
                      {
                        "marker": {
                          "pattern": {
                            "fillmode": "overlay",
                            "size": 10,
                            "solidity": 0.2
                          }
                        },
                        "type": "histogram"
                      }
                    ],
                    "histogram2d": [
                      {
                        "colorbar": {
                          "outlinewidth": 0,
                          "ticks": ""
                        },
                        "colorscale": [
                          [
                            0,
                            "#0d0887"
                          ],
                          [
                            0.1111111111111111,
                            "#46039f"
                          ],
                          [
                            0.2222222222222222,
                            "#7201a8"
                          ],
                          [
                            0.3333333333333333,
                            "#9c179e"
                          ],
                          [
                            0.4444444444444444,
                            "#bd3786"
                          ],
                          [
                            0.5555555555555556,
                            "#d8576b"
                          ],
                          [
                            0.6666666666666666,
                            "#ed7953"
                          ],
                          [
                            0.7777777777777778,
                            "#fb9f3a"
                          ],
                          [
                            0.8888888888888888,
                            "#fdca26"
                          ],
                          [
                            1,
                            "#f0f921"
                          ]
                        ],
                        "type": "histogram2d"
                      }
                    ],
                    "histogram2dcontour": [
                      {
                        "colorbar": {
                          "outlinewidth": 0,
                          "ticks": ""
                        },
                        "colorscale": [
                          [
                            0,
                            "#0d0887"
                          ],
                          [
                            0.1111111111111111,
                            "#46039f"
                          ],
                          [
                            0.2222222222222222,
                            "#7201a8"
                          ],
                          [
                            0.3333333333333333,
                            "#9c179e"
                          ],
                          [
                            0.4444444444444444,
                            "#bd3786"
                          ],
                          [
                            0.5555555555555556,
                            "#d8576b"
                          ],
                          [
                            0.6666666666666666,
                            "#ed7953"
                          ],
                          [
                            0.7777777777777778,
                            "#fb9f3a"
                          ],
                          [
                            0.8888888888888888,
                            "#fdca26"
                          ],
                          [
                            1,
                            "#f0f921"
                          ]
                        ],
                        "type": "histogram2dcontour"
                      }
                    ],
                    "mesh3d": [
                      {
                        "colorbar": {
                          "outlinewidth": 0,
                          "ticks": ""
                        },
                        "type": "mesh3d"
                      }
                    ],
                    "parcoords": [
                      {
                        "line": {
                          "colorbar": {
                            "outlinewidth": 0,
                            "ticks": ""
                          }
                        },
                        "type": "parcoords"
                      }
                    ],
                    "pie": [
                      {
                        "automargin": true,
                        "type": "pie"
                      }
                    ],
                    "scatter": [
                      {
                        "fillpattern": {
                          "fillmode": "overlay",
                          "size": 10,
                          "solidity": 0.2
                        },
                        "type": "scatter"
                      }
                    ],
                    "scatter3d": [
                      {
                        "line": {
                          "colorbar": {
                            "outlinewidth": 0,
                            "ticks": ""
                          }
                        },
                        "marker": {
                          "colorbar": {
                            "outlinewidth": 0,
                            "ticks": ""
                          }
                        },
                        "type": "scatter3d"
                      }
                    ],
                    "scattercarpet": [
                      {
                        "marker": {
                          "colorbar": {
                            "outlinewidth": 0,
                            "ticks": ""
                          }
                        },
                        "type": "scattercarpet"
                      }
                    ],
                    "scattergeo": [
                      {
                        "marker": {
                          "colorbar": {
                            "outlinewidth": 0,
                            "ticks": ""
                          }
                        },
                        "type": "scattergeo"
                      }
                    ],
                    "scattergl": [
                      {
                        "marker": {
                          "colorbar": {
                            "outlinewidth": 0,
                            "ticks": ""
                          }
                        },
                        "type": "scattergl"
                      }
                    ],
                    "scattermap": [
                      {
                        "marker": {
                          "colorbar": {
                            "outlinewidth": 0,
                            "ticks": ""
                          }
                        },
                        "type": "scattermap"
                      }
                    ],
                    "scattermapbox": [
                      {
                        "marker": {
                          "colorbar": {
                            "outlinewidth": 0,
                            "ticks": ""
                          }
                        },
                        "type": "scattermapbox"
                      }
                    ],
                    "scatterpolar": [
                      {
                        "marker": {
                          "colorbar": {
                            "outlinewidth": 0,
                            "ticks": ""
                          }
                        },
                        "type": "scatterpolar"
                      }
                    ],
                    "scatterpolargl": [
                      {
                        "marker": {
                          "colorbar": {
                            "outlinewidth": 0,
                            "ticks": ""
                          }
                        },
                        "type": "scatterpolargl"
                      }
                    ],
                    "scatterternary": [
                      {
                        "marker": {
                          "colorbar": {
                            "outlinewidth": 0,
                            "ticks": ""
                          }
                        },
                        "type": "scatterternary"
                      }
                    ],
                    "surface": [
                      {
                        "colorbar": {
                          "outlinewidth": 0,
                          "ticks": ""
                        },
                        "colorscale": [
                          [
                            0,
                            "#0d0887"
                          ],
                          [
                            0.1111111111111111,
                            "#46039f"
                          ],
                          [
                            0.2222222222222222,
                            "#7201a8"
                          ],
                          [
                            0.3333333333333333,
                            "#9c179e"
                          ],
                          [
                            0.4444444444444444,
                            "#bd3786"
                          ],
                          [
                            0.5555555555555556,
                            "#d8576b"
                          ],
                          [
                            0.6666666666666666,
                            "#ed7953"
                          ],
                          [
                            0.7777777777777778,
                            "#fb9f3a"
                          ],
                          [
                            0.8888888888888888,
                            "#fdca26"
                          ],
                          [
                            1,
                            "#f0f921"
                          ]
                        ],
                        "type": "surface"
                      }
                    ],
                    "table": [
                      {
                        "cells": {
                          "fill": {
                            "color": "#EBF0F8"
                          },
                          "line": {
                            "color": "white"
                          }
                        },
                        "header": {
                          "fill": {
                            "color": "#C8D4E3"
                          },
                          "line": {
                            "color": "white"
                          }
                        },
                        "type": "table"
                      }
                    ]
                  },
                  "layout": {
                    "annotationdefaults": {
                      "arrowcolor": "#2a3f5f",
                      "arrowhead": 0,
                      "arrowwidth": 1
                    },
                    "autotypenumbers": "strict",
                    "coloraxis": {
                      "colorbar": {
                        "outlinewidth": 0,
                        "ticks": ""
                      }
                    },
                    "colorscale": {
                      "diverging": [
                        [
                          0,
                          "#8e0152"
                        ],
                        [
                          0.1,
                          "#c51b7d"
                        ],
                        [
                          0.2,
                          "#de77ae"
                        ],
                        [
                          0.3,
                          "#f1b6da"
                        ],
                        [
                          0.4,
                          "#fde0ef"
                        ],
                        [
                          0.5,
                          "#f7f7f7"
                        ],
                        [
                          0.6,
                          "#e6f5d0"
                        ],
                        [
                          0.7,
                          "#b8e186"
                        ],
                        [
                          0.8,
                          "#7fbc41"
                        ],
                        [
                          0.9,
                          "#4d9221"
                        ],
                        [
                          1,
                          "#276419"
                        ]
                      ],
                      "sequential": [
                        [
                          0,
                          "#0d0887"
                        ],
                        [
                          0.1111111111111111,
                          "#46039f"
                        ],
                        [
                          0.2222222222222222,
                          "#7201a8"
                        ],
                        [
                          0.3333333333333333,
                          "#9c179e"
                        ],
                        [
                          0.4444444444444444,
                          "#bd3786"
                        ],
                        [
                          0.5555555555555556,
                          "#d8576b"
                        ],
                        [
                          0.6666666666666666,
                          "#ed7953"
                        ],
                        [
                          0.7777777777777778,
                          "#fb9f3a"
                        ],
                        [
                          0.8888888888888888,
                          "#fdca26"
                        ],
                        [
                          1,
                          "#f0f921"
                        ]
                      ],
                      "sequentialminus": [
                        [
                          0,
                          "#0d0887"
                        ],
                        [
                          0.1111111111111111,
                          "#46039f"
                        ],
                        [
                          0.2222222222222222,
                          "#7201a8"
                        ],
                        [
                          0.3333333333333333,
                          "#9c179e"
                        ],
                        [
                          0.4444444444444444,
                          "#bd3786"
                        ],
                        [
                          0.5555555555555556,
                          "#d8576b"
                        ],
                        [
                          0.6666666666666666,
                          "#ed7953"
                        ],
                        [
                          0.7777777777777778,
                          "#fb9f3a"
                        ],
                        [
                          0.8888888888888888,
                          "#fdca26"
                        ],
                        [
                          1,
                          "#f0f921"
                        ]
                      ]
                    },
                    "colorway": [
                      "#636efa",
                      "#EF553B",
                      "#00cc96",
                      "#ab63fa",
                      "#FFA15A",
                      "#19d3f3",
                      "#FF6692",
                      "#B6E880",
                      "#FF97FF",
                      "#FECB52"
                    ],
                    "font": {
                      "color": "#2a3f5f"
                    },
                    "geo": {
                      "bgcolor": "white",
                      "lakecolor": "white",
                      "landcolor": "#E5ECF6",
                      "showlakes": true,
                      "showland": true,
                      "subunitcolor": "white"
                    },
                    "hoverlabel": {
                      "align": "left"
                    },
                    "hovermode": "closest",
                    "mapbox": {
                      "style": "light"
                    },
                    "paper_bgcolor": "white",
                    "plot_bgcolor": "#E5ECF6",
                    "polar": {
                      "angularaxis": {
                        "gridcolor": "white",
                        "linecolor": "white",
                        "ticks": ""
                      },
                      "bgcolor": "#E5ECF6",
                      "radialaxis": {
                        "gridcolor": "white",
                        "linecolor": "white",
                        "ticks": ""
                      }
                    },
                    "scene": {
                      "xaxis": {
                        "backgroundcolor": "#E5ECF6",
                        "gridcolor": "white",
                        "gridwidth": 2,
                        "linecolor": "white",
                        "showbackground": true,
                        "ticks": "",
                        "zerolinecolor": "white"
                      },
                      "yaxis": {
                        "backgroundcolor": "#E5ECF6",
                        "gridcolor": "white",
                        "gridwidth": 2,
                        "linecolor": "white",
                        "showbackground": true,
                        "ticks": "",
                        "zerolinecolor": "white"
                      },
                      "zaxis": {
                        "backgroundcolor": "#E5ECF6",
                        "gridcolor": "white",
                        "gridwidth": 2,
                        "linecolor": "white",
                        "showbackground": true,
                        "ticks": "",
                        "zerolinecolor": "white"
                      }
                    },
                    "shapedefaults": {
                      "line": {
                        "color": "#2a3f5f"
                      }
                    },
                    "ternary": {
                      "aaxis": {
                        "gridcolor": "white",
                        "linecolor": "white",
                        "ticks": ""
                      },
                      "baxis": {
                        "gridcolor": "white",
                        "linecolor": "white",
                        "ticks": ""
                      },
                      "bgcolor": "#E5ECF6",
                      "caxis": {
                        "gridcolor": "white",
                        "linecolor": "white",
                        "ticks": ""
                      }
                    },
                    "title": {
                      "x": 0.05
                    },
                    "xaxis": {
                      "automargin": true,
                      "gridcolor": "white",
                      "linecolor": "white",
                      "ticks": "",
                      "title": {
                        "standoff": 15
                      },
                      "zerolinecolor": "white",
                      "zerolinewidth": 2
                    },
                    "yaxis": {
                      "automargin": true,
                      "gridcolor": "white",
                      "linecolor": "white",
                      "ticks": "",
                      "title": {
                        "standoff": 15
                      },
                      "zerolinecolor": "white",
                      "zerolinewidth": 2
                    }
                  }
                },
                "title": {
                  "font": {
                    "size": 20
                  },
                  "text": "PCA Variance Analysis: Temporal vs Control Data",
                  "x": 0.5,
                  "xanchor": "center"
                },
                "width": 1200,
                "xaxis": {
                  "anchor": "y",
                  "domain": [
                    0,
                    0.425
                  ],
                  "gridcolor": "lightgray",
                  "gridwidth": 1,
                  "showgrid": true,
                  "title": {
                    "font": {
                      "size": 14
                    },
                    "text": "Layer"
                  }
                },
                "xaxis2": {
                  "anchor": "y2",
                  "domain": [
                    0.575,
                    1
                  ],
                  "gridcolor": "lightgray",
                  "gridwidth": 1,
                  "showgrid": true,
                  "title": {
                    "font": {
                      "size": 14
                    },
                    "text": "Layer"
                  }
                },
                "xaxis3": {
                  "anchor": "y3",
                  "domain": [
                    0,
                    0.425
                  ],
                  "gridcolor": "lightgray",
                  "gridwidth": 1,
                  "showgrid": true,
                  "title": {
                    "font": {
                      "size": 14
                    },
                    "text": "Components"
                  }
                },
                "xaxis4": {
                  "anchor": "y4",
                  "domain": [
                    0.575,
                    1
                  ],
                  "gridcolor": "lightgray",
                  "gridwidth": 1,
                  "showgrid": true,
                  "title": {
                    "font": {
                      "size": 14
                    },
                    "text": "Layer"
                  }
                },
                "yaxis": {
                  "anchor": "x",
                  "domain": [
                    0.625,
                    1
                  ],
                  "gridcolor": "lightgray",
                  "gridwidth": 1,
                  "showgrid": true,
                  "title": {
                    "font": {
                      "size": 14
                    },
                    "text": "# Components"
                  }
                },
                "yaxis2": {
                  "anchor": "x2",
                  "domain": [
                    0.625,
                    1
                  ],
                  "gridcolor": "lightgray",
                  "gridwidth": 1,
                  "showgrid": true,
                  "title": {
                    "font": {
                      "size": 14
                    },
                    "text": "% of Dimensions"
                  }
                },
                "yaxis3": {
                  "anchor": "x3",
                  "domain": [
                    0,
                    0.375
                  ],
                  "gridcolor": "lightgray",
                  "gridwidth": 1,
                  "showgrid": true,
                  "title": {
                    "font": {
                      "size": 14
                    },
                    "text": "Cumulative Var. (%)"
                  }
                },
                "yaxis4": {
                  "anchor": "x4",
                  "domain": [
                    0,
                    0.375
                  ],
                  "gridcolor": "lightgray",
                  "gridwidth": 1,
                  "showgrid": true,
                  "title": {
                    "font": {
                      "size": 14
                    },
                    "text": "Variance (%)"
                  }
                }
              }
            }
          },
          "metadata": {},
          "output_type": "display_data"
        }
      ],
      "source": [
        "# Create interactive plotly visualization with improved layout\n",
        "fig = make_subplots(\n",
        "    rows=2, cols=2,\n",
        "    subplot_titles=(\n",
        "        'Components for Variance Thresholds',\n",
        "        'Dimension Percentage (95% var)',\n",
        "        'Cumulative Variance - Layer 8',\n",
        "        'First PC Variance by Layer'\n",
        "    ),\n",
        "    vertical_spacing=0.25,  # Increased spacing\n",
        "    horizontal_spacing=0.15  # Increased spacing\n",
        ")\n",
        "\n",
        "# Color scheme for better visual clarity\n",
        "temporal_color = '#1f77b4'  # Blue\n",
        "control_color = '#ff7f0e'   # Orange\n",
        "threshold_colors = {'90': '#2ca02c', '95': '#d62728', '99': '#9467bd'}\n",
        "\n",
        "# Subplot 1: Components needed - only show 95% threshold for clarity\n",
        "threshold = 0.95\n",
        "temporal_components = [temporal_variance_results[l]['components_needed'][threshold] for l in layers]\n",
        "control_components = [control_variance_results[l]['components_needed'][threshold] for l in layers]\n",
        "\n",
        "fig.add_trace(\n",
        "    go.Scatter(x=layers, y=temporal_components, \n",
        "               name='Temporal',\n",
        "               mode='lines+markers',\n",
        "               line=dict(color=temporal_color, width=3),\n",
        "               marker=dict(size=8)),\n",
        "    row=1, col=1\n",
        ")\n",
        "fig.add_trace(\n",
        "    go.Scatter(x=layers, y=control_components, \n",
        "               name='Control',\n",
        "               mode='lines+markers',\n",
        "               line=dict(color=control_color, width=3, dash='dash'),\n",
        "               marker=dict(size=8)),\n",
        "    row=1, col=1\n",
        ")\n",
        "\n",
        "# Add shaded regions for 90% and 99% thresholds\n",
        "for thresh_val, thresh_label in [(0.90, '90%'), (0.99, '99%')]:\n",
        "    temp_comp = [temporal_variance_results[l]['components_needed'][thresh_val] for l in layers]\n",
        "    fig.add_trace(\n",
        "        go.Scatter(x=layers, y=temp_comp,\n",
        "                   name=f'Temporal {thresh_label}',\n",
        "                   mode='lines',\n",
        "                   line=dict(color=temporal_color, width=1),\n",
        "                   opacity=0.4,\n",
        "                   showlegend=False),\n",
        "        row=1, col=1\n",
        "    )\n",
        "\n",
        "# Subplot 2: Ratio for 95% variance\n",
        "fig.add_trace(\n",
        "    go.Scatter(x=layers, y=summary_df['Temporal_Ratio_95%'] * 100,\n",
        "               name='Temporal %',\n",
        "               mode='lines+markers',\n",
        "               line=dict(color=temporal_color, width=3),\n",
        "               marker=dict(size=10)),\n",
        "    row=1, col=2\n",
        ")\n",
        "fig.add_trace(\n",
        "    go.Scatter(x=layers, y=summary_df['Control_Ratio_95%'] * 100,\n",
        "               name='Control %',\n",
        "               mode='lines+markers',\n",
        "               line=dict(color=control_color, width=3),\n",
        "               marker=dict(size=10)),\n",
        "    row=1, col=2\n",
        ")\n",
        "\n",
        "# Subplot 3: Cumulative variance for middle layer\n",
        "middle_layer = 8\n",
        "components = range(1, 51)\n",
        "temporal_cumvar = temporal_variance_results[middle_layer]['cumulative_variance'][:50] * 100\n",
        "control_cumvar = control_variance_results[middle_layer]['cumulative_variance'][:50] * 100\n",
        "\n",
        "fig.add_trace(\n",
        "    go.Scatter(x=list(components), y=temporal_cumvar,\n",
        "               name='Temporal',\n",
        "               mode='lines',\n",
        "               line=dict(color=temporal_color, width=3)),\n",
        "    row=2, col=1\n",
        ")\n",
        "fig.add_trace(\n",
        "    go.Scatter(x=list(components), y=control_cumvar,\n",
        "               name='Control',\n",
        "               mode='lines',\n",
        "               line=dict(color=control_color, width=3)),\n",
        "    row=2, col=1\n",
        ")\n",
        "\n",
        "# Add 95% threshold line with annotation\n",
        "fig.add_hline(y=95, row=2, col=1, \n",
        "              line_dash=\"dash\", \n",
        "              line_color=\"red\", \n",
        "              opacity=0.7,\n",
        "              annotation_text=\"95%\",\n",
        "              annotation_position=\"right\")\n",
        "\n",
        "# Add vertical lines showing where each curve crosses 95%\n",
        "temp_95_idx = temporal_variance_results[middle_layer]['components_needed'][0.95]\n",
        "ctrl_95_idx = control_variance_results[middle_layer]['components_needed'][0.95]\n",
        "\n",
        "fig.add_vline(x=temp_95_idx, row=2, col=1,\n",
        "              line_dash=\"dot\", \n",
        "              line_color=temporal_color, \n",
        "              opacity=0.5)\n",
        "fig.add_vline(x=ctrl_95_idx, row=2, col=1,\n",
        "              line_dash=\"dot\", \n",
        "              line_color=control_color, \n",
        "              opacity=0.5)\n",
        "\n",
        "# Subplot 4: First PC variance\n",
        "first_pc_temporal = [temporal_variance_results[l]['variance_ratios'][0] * 100 for l in layers]\n",
        "first_pc_control = [control_variance_results[l]['variance_ratios'][0] * 100 for l in layers]\n",
        "\n",
        "fig.add_trace(\n",
        "    go.Scatter(x=layers, y=first_pc_temporal,\n",
        "               name='Temporal 1st PC',\n",
        "               mode='lines+markers',\n",
        "               line=dict(color=temporal_color, width=3),\n",
        "               marker=dict(size=8)),\n",
        "    row=2, col=2\n",
        ")\n",
        "fig.add_trace(\n",
        "    go.Scatter(x=layers, y=first_pc_control,\n",
        "               name='Control 1st PC',\n",
        "               mode='lines+markers',\n",
        "               line=dict(color=control_color, width=3),\n",
        "               marker=dict(size=8)),\n",
        "    row=2, col=2\n",
        ")\n",
        "\n",
        "# Update axes with better formatting\n",
        "fig.update_xaxes(title_text=\"Layer\", title_font=dict(size=14), row=1, col=1)\n",
        "fig.update_xaxes(title_text=\"Layer\", title_font=dict(size=14), row=1, col=2)\n",
        "fig.update_xaxes(title_text=\"Components\", title_font=dict(size=14), row=2, col=1)\n",
        "fig.update_xaxes(title_text=\"Layer\", title_font=dict(size=14), row=2, col=2)\n",
        "\n",
        "fig.update_yaxes(title_text=\"# Components\", title_font=dict(size=14), row=1, col=1)\n",
        "fig.update_yaxes(title_text=\"% of Dimensions\", title_font=dict(size=14), row=1, col=2)\n",
        "fig.update_yaxes(title_text=\"Cumulative Var. (%)\", title_font=dict(size=14), row=2, col=1)\n",
        "fig.update_yaxes(title_text=\"Variance (%)\", title_font=dict(size=14), row=2, col=2)\n",
        "\n",
        "# Update layout with improved styling\n",
        "fig.update_layout(\n",
        "    height=1100,  # Increased height\n",
        "    width=1200,   # Set width for better proportions\n",
        "    showlegend=True,\n",
        "    legend=dict(\n",
        "        orientation=\"h\",\n",
        "        yanchor=\"bottom\",\n",
        "        y=1.02,\n",
        "        xanchor=\"center\",\n",
        "        x=0.5,\n",
        "        font=dict(size=12)\n",
        "    ),\n",
        "    title=dict(\n",
        "        text=\"PCA Variance Analysis: Temporal vs Control Data\",\n",
        "        font=dict(size=20),\n",
        "        x=0.5,\n",
        "        xanchor='center'\n",
        "    ),\n",
        "    hovermode='x unified',\n",
        "    plot_bgcolor='white',\n",
        "    font=dict(size=12)\n",
        ")\n",
        "\n",
        "# Update subplot titles font size\n",
        "for annotation in fig['layout']['annotations']:\n",
        "    annotation['font'] = dict(size=16)\n",
        "\n",
        "# Add grid lines for better readability\n",
        "fig.update_xaxes(showgrid=True, gridwidth=1, gridcolor='lightgray')\n",
        "fig.update_yaxes(showgrid=True, gridwidth=1, gridcolor='lightgray')\n",
        "\n",
        "# Save interactive plot\n",
        "fig.write_html('../../../results/html/variance_explained_interactive.html')\n",
        "fig.show()\n"
      ]
    },
    {
      "cell_type": "code",
      "execution_count": 12,
      "metadata": {},
      "outputs": [
        {
          "name": "stdout",
          "output_type": "stream",
          "text": [
            "Extracting temporal embeddings from all layers...\n"
          ]
        },
        {
          "name": "stderr",
          "output_type": "stream",
          "text": [
            "Extracting representations:   0%|          | 0/26 [00:00<?, ?it/s]/Users/kadenzheng/manifolds/notebooks/analysis/variance_explained/../../../src/datasets.py:37: UserWarning:\n",
            "\n",
            "To copy construct from a tensor, it is recommended to use sourceTensor.detach().clone() or sourceTensor.detach().clone().requires_grad_(True), rather than torch.tensor(sourceTensor).\n",
            "\n",
            "Extracting representations: 100%|██████████| 26/26 [00:05<00:00,  4.95it/s]\n"
          ]
        },
        {
          "name": "stdout",
          "output_type": "stream",
          "text": [
            "\n",
            "Extracting control embeddings from all layers...\n"
          ]
        },
        {
          "name": "stderr",
          "output_type": "stream",
          "text": [
            "Extracting representations:   0%|          | 0/2 [00:00<?, ?it/s]/Users/kadenzheng/manifolds/notebooks/analysis/variance_explained/../../../src/datasets.py:121: UserWarning:\n",
            "\n",
            "To copy construct from a tensor, it is recommended to use sourceTensor.detach().clone() or sourceTensor.detach().clone().requires_grad_(True), rather than torch.tensor(sourceTensor).\n",
            "\n",
            "Extracting representations: 100%|██████████| 2/2 [00:00<00:00,  5.40it/s]"
          ]
        },
        {
          "name": "stdout",
          "output_type": "stream",
          "text": [
            "\n",
            "Extraction complete!\n",
            "Layers analyzed: 17\n",
            "Temporal embedding shape (layer 0): (413, 2048)\n",
            "Control embedding shape (layer 0): (45, 2048)\n"
          ]
        },
        {
          "name": "stderr",
          "output_type": "stream",
          "text": [
            "\n"
          ]
        }
      ],
      "source": [
        "# Import TemporalDataset class\n",
        "from src.datasets import TemporalDataset\n",
        "\n",
        "# Extract temporal embeddings\n",
        "print(\"Extracting temporal embeddings from all layers...\")\n",
        "\n",
        "# Tokenize temporal texts\n",
        "temporal_texts = add_plur_df['text'].tolist()\n",
        "temporal_encodings = tokenizer(temporal_texts, truncation=True, padding=True, return_tensors='pt', max_length=128)\n",
        "\n",
        "# Create PyTorch dataset\n",
        "temporal_dataset = TemporalDataset(temporal_encodings, add_plur_df)\n",
        "\n",
        "# Extract embeddings from all layers\n",
        "temporal_embeddings, temporal_labels = extract_all_layer_representations(\n",
        "    model, temporal_dataset, config.device, batch_size=config.batch_size\n",
        ")\n",
        "\n",
        "# Extract control embeddings\n",
        "print(\"\\nExtracting control embeddings from all layers...\")\n",
        "control_embeddings, control_labels = extract_control_embeddings(\n",
        "    control_words, model, tokenizer, config.device\n",
        ")\n",
        "\n",
        "print(f\"\\nExtraction complete!\")\n",
        "print(f\"Layers analyzed: {len(temporal_embeddings)}\")\n",
        "print(f\"Temporal embedding shape (layer 0): {temporal_embeddings[0].shape}\")\n",
        "print(f\"Control embedding shape (layer 0): {control_embeddings[0].shape}\")\n"
      ]
    },
    {
      "cell_type": "raw",
      "metadata": {
        "vscode": {
          "languageId": "raw"
        }
      },
      "source": [
        "### 7.4 Heatmap of Components Needed\n"
      ]
    },
    {
      "cell_type": "code",
      "execution_count": 13,
      "metadata": {},
      "outputs": [
        {
          "data": {
            "image/png": "[encoded data removed]",
            "text/plain": [
              "<Figure size 1200x800 with 4 Axes>"
            ]
          },
          "metadata": {},
          "output_type": "display_data"
        }
      ],
      "source": [
        "# Create heatmap data\n",
        "thresholds = [0.80, 0.90, 0.95, 0.99]\n",
        "heatmap_data_temporal = np.zeros((len(layers), len(thresholds)))\n",
        "heatmap_data_control = np.zeros((len(layers), len(thresholds)))\n",
        "\n",
        "for i, layer in enumerate(layers):\n",
        "    for j, threshold in enumerate(thresholds):\n",
        "        heatmap_data_temporal[i, j] = temporal_variance_results[layer]['components_needed'][threshold]\n",
        "        heatmap_data_control[i, j] = control_variance_results[layer]['components_needed'][threshold]\n",
        "\n",
        "# Create side-by-side heatmaps\n",
        "fig, (ax1, ax2) = plt.subplots(1, 2, figsize=(12, 8))\n",
        "\n",
        "# Temporal heatmap\n",
        "sns.heatmap(heatmap_data_temporal, \n",
        "            xticklabels=[f'{int(t*100)}%' for t in thresholds],\n",
        "            yticklabels=[f'Layer {l}' for l in layers],\n",
        "            annot=True, fmt='g', cmap='YlOrRd',\n",
        "            ax=ax1, cbar_kws={'label': 'Components Needed'})\n",
        "ax1.set_title('Temporal Data', fontsize=14)\n",
        "ax1.set_xlabel('Variance Threshold', fontsize=12)\n",
        "\n",
        "# Control heatmap\n",
        "sns.heatmap(heatmap_data_control, \n",
        "            xticklabels=[f'{int(t*100)}%' for t in thresholds],\n",
        "            yticklabels=[f'Layer {l}' for l in layers],\n",
        "            annot=True, fmt='g', cmap='YlOrRd',\n",
        "            ax=ax2, cbar_kws={'label': 'Components Needed'})\n",
        "ax2.set_title('Control Data', fontsize=14)\n",
        "ax2.set_xlabel('Variance Threshold', fontsize=12)\n",
        "\n",
        "plt.suptitle('Components Needed for Different Variance Thresholds', fontsize=16)\n",
        "plt.tight_layout()\n",
        "plt.savefig('../../../results/figures/variance_analysis/components_heatmap.png', dpi=300, bbox_inches='tight')\n",
        "plt.show()\n"
      ]
    },
    {
      "cell_type": "raw",
      "metadata": {
        "vscode": {
          "languageId": "raw"
        }
      },
      "source": [
        "## 8. Statistical Analysis\n"
      ]
    },
    {
      "cell_type": "code",
      "execution_count": 14,
      "metadata": {},
      "outputs": [
        {
          "name": "stdout",
          "output_type": "stream",
          "text": [
            "Difference in components needed (Control - Temporal) for 95% variance:\n",
            "Mean difference: 6.24 components\n",
            "Max difference: 23.00 components (Layer 2)\n",
            "Min difference: -4.00 components (Layer 0)\n",
            "\n",
            "Mean percent difference: 11.3%\n",
            "\n",
            "Layers with best temporal compression (fewest components relative to dimension):\n",
            "  Layer 0: 0.3% of dimensions needed\n",
            "  Layer 1: 0.3% of dimensions needed\n",
            "  Layer 2: 0.3% of dimensions needed\n",
            "\n",
            "Paired t-test (temporal vs control components at 95%):\n",
            "  t-statistic: -3.521\n",
            "  p-value: 2.836e-03\n",
            "  Significant difference: Yes\n"
          ]
        }
      ],
      "source": [
        "# Compare temporal vs control at 95% variance\n",
        "temporal_95 = summary_df['Temporal_95%'].values\n",
        "control_95 = summary_df['Control_95%'].values\n",
        "\n",
        "# Calculate differences\n",
        "differences = control_95 - temporal_95\n",
        "percent_differences = (differences / control_95) * 100\n",
        "\n",
        "print(\"Difference in components needed (Control - Temporal) for 95% variance:\")\n",
        "print(f\"Mean difference: {np.mean(differences):.2f} components\")\n",
        "print(f\"Max difference: {np.max(differences):.2f} components (Layer {np.argmax(differences)})\")\n",
        "print(f\"Min difference: {np.min(differences):.2f} components (Layer {np.argmin(differences)})\")\n",
        "print(f\"\\nMean percent difference: {np.mean(percent_differences):.1f}%\")\n",
        "\n",
        "# Find layers where temporal data is most compressed\n",
        "temporal_compression = summary_df['Temporal_Ratio_95%'].values\n",
        "best_compression_layers = np.argsort(temporal_compression)[:3]\n",
        "print(f\"\\nLayers with best temporal compression (fewest components relative to dimension):\")\n",
        "for layer in best_compression_layers:\n",
        "    print(f\"  Layer {layer}: {temporal_compression[layer]*100:.1f}% of dimensions needed\")\n",
        "\n",
        "# Statistical test\n",
        "from scipy import stats\n",
        "t_stat, p_value = stats.ttest_rel(temporal_95, control_95)\n",
        "print(f\"\\nPaired t-test (temporal vs control components at 95%):\")\n",
        "print(f\"  t-statistic: {t_stat:.3f}\")\n",
        "print(f\"  p-value: {p_value:.3e}\")\n",
        "print(f\"  Significant difference: {'Yes' if p_value < 0.05 else 'No'}\")\n"
      ]
    },
    {
      "cell_type": "raw",
      "metadata": {
        "vscode": {
          "languageId": "raw"
        }
      },
      "source": [
        "## 9. Save Results\n"
      ]
    },
    {
      "cell_type": "code",
      "execution_count": 15,
      "metadata": {},
      "outputs": [
        {
          "name": "stdout",
          "output_type": "stream",
          "text": [
            "Results saved to:\n",
            "  - results/data/variance_analysis_results.pkl\n",
            "  - results/data/variance_analysis_summary.csv\n",
            "  - results/html/variance_explained_interactive.html\n",
            "  - results/figures/variance_analysis/\n"
          ]
        }
      ],
      "source": [
        "# Save detailed results\n",
        "results_to_save = {\n",
        "    'temporal_variance_results': temporal_variance_results,\n",
        "    'control_variance_results': control_variance_results,\n",
        "    'summary_df': summary_df,\n",
        "    'config': config\n",
        "}\n",
        "\n",
        "with open('../../../results/data/variance_analysis_results.pkl', 'wb') as f:\n",
        "    pickle.dump(results_to_save, f)\n",
        "\n",
        "# Save summary CSV\n",
        "summary_df.to_csv('../../../results/data/variance_analysis_summary.csv', index=False)\n",
        "\n",
        "print(\"Results saved to:\")\n",
        "print(\"  - results/data/variance_analysis_results.pkl\")\n",
        "print(\"  - results/data/variance_analysis_summary.csv\")\n",
        "print(\"  - results/html/variance_explained_interactive.html\")\n",
        "print(\"  - results/figures/variance_analysis/\")\n"
      ]
    },
    {
      "cell_type": "raw",
      "metadata": {
        "vscode": {
          "languageId": "raw"
        }
      },
      "source": [
        "## 10. Key Findings Summary\n"
      ]
    },
    {
      "cell_type": "code",
      "execution_count": 16,
      "metadata": {},
      "outputs": [
        {
          "name": "stdout",
          "output_type": "stream",
          "text": [
            "=== KEY FINDINGS ===\n",
            "\n",
            "1. DIMENSIONALITY REQUIREMENTS FOR 95% VARIANCE:\n",
            "   - Temporal data: 21.4 ± 8.6 components\n",
            "   - Control data: 27.6 ± 7.1 components\n",
            "   - Temporal data requires 11.3% fewer components on average\n",
            "\n",
            "2. LAYER-WISE PATTERNS:\n",
            "   - Best temporal compression: Layers [0 1 2]\n",
            "   - Embedding dimension: 2048 across all layers\n",
            "\n",
            "3. VARIANCE CONCENTRATION:\n",
            "   - First PC explains 20.6% variance (temporal) vs 43.2% (control)\n",
            "   - Temporal data shows more concentrated variance structure\n",
            "\n",
            "4. IMPLICATIONS:\n",
            "   - Temporal embeddings have more structured, lower-dimensional representations\n",
            "   - The circular manifold structure leads to efficient variance concentration\n",
            "   - Control words require more dimensions due to less structured distribution\n"
          ]
        }
      ],
      "source": [
        "print(\"=== KEY FINDINGS ===\")\n",
        "print(\"\\n1. DIMENSIONALITY REQUIREMENTS FOR 95% VARIANCE:\")\n",
        "print(f\"   - Temporal data: {np.mean(temporal_95):.1f} ± {np.std(temporal_95):.1f} components\")\n",
        "print(f\"   - Control data: {np.mean(control_95):.1f} ± {np.std(control_95):.1f} components\")\n",
        "print(f\"   - Temporal data requires {np.mean(percent_differences):.1f}% fewer components on average\")\n",
        "\n",
        "print(\"\\n2. LAYER-WISE PATTERNS:\")\n",
        "print(f\"   - Best temporal compression: Layers {best_compression_layers}\")\n",
        "print(f\"   - Embedding dimension: {summary_df['Embedding_Dim'].iloc[0]} across all layers\")\n",
        "\n",
        "print(\"\\n3. VARIANCE CONCENTRATION:\")\n",
        "first_pc_temp = np.mean([temporal_variance_results[l]['variance_ratios'][0] for l in layers]) * 100\n",
        "first_pc_ctrl = np.mean([control_variance_results[l]['variance_ratios'][0] for l in layers]) * 100\n",
        "print(f\"   - First PC explains {first_pc_temp:.1f}% variance (temporal) vs {first_pc_ctrl:.1f}% (control)\")\n",
        "print(f\"   - Temporal data shows more concentrated variance structure\")\n",
        "\n",
        "print(\"\\n4. IMPLICATIONS:\")\n",
        "print(\"   - Temporal embeddings have more structured, lower-dimensional representations\")\n",
        "print(\"   - The circular manifold structure leads to efficient variance concentration\")\n",
        "print(\"   - Control words require more dimensions due to less structured distribution\")\n"
      ]
    }
  ],
  "metadata": {
    "kernelspec": {
      "display_name": "Python 3",
      "language": "python",
      "name": "python3"
    },
    "language_info": {
      "codemirror_mode": {
        "name": "ipython",
        "version": 3
      },
      "file_extension": ".py",
      "mimetype": "text/x-python",
      "name": "python",
      "nbconvert_exporter": "python",
      "pygments_lexer": "ipython3",
      "version": "3.13.5"
    }
  },
  "nbformat": 4,
  "nbformat_minor": 2
}
