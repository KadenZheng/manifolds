{
 "cells": [
  {
   "cell_type": "raw",
   "metadata": {
    "vscode": {
     "languageId": "raw"
    }
   },
   "source": [
    "# Interactive PCA Comparison: With vs Without Multiples of 7\n",
    "\n",
    "This notebook explains the interactive visualization that compares PCA projections of add_plur data:\n",
    "- **Left plot**: Without multiples of 7 (excludes 7, 14, 21, ...)\n",
    "- **Right plot**: With all numbers (includes all offsets 2-70)\n",
    "\n",
    "Points are colored by the **result day** (the answer), not the starting day.\n"
   ]
  },
  {
   "cell_type": "raw",
   "metadata": {
    "vscode": {
     "languageId": "raw"
    }
   },
   "source": [
    "## 📁 Interactive Visualization Location\n",
    "\n",
    "The interactive HTML file has been created at:\n",
    "```\n",
    "visualizations/misc/pca_multiples_7_interactive.html\n",
    "```\n",
    "\n",
    "Open this file in your web browser to explore the visualization.\n"
   ]
  },
  {
   "cell_type": "raw",
   "metadata": {
    "vscode": {
     "languageId": "raw"
    }
   },
   "source": [
    "## 🎨 Visualization Features\n",
    "\n",
    "The interactive HTML file includes:\n",
    "\n",
    "### Layer Selection\n",
    "- **Dropdown menu** to switch between all 17 layers (0-16)\n",
    "- Variance explained percentages update automatically\n",
    "\n",
    "### Color Coding\n",
    "- Points are colored by the **result day** (the answer)\n",
    "- Example: \"Saturday + 1 day = Sunday\" is colored violet (Sunday's color)\n",
    "- All operations with the same result share the same color\n",
    "\n",
    "### Hover Information\n",
    "When you hover over any point, you'll see:\n",
    "- Full arithmetic expression (e.g., \"Monday plus 3 days equals Thursday\")\n",
    "- Starting day and offset\n",
    "- Result day\n",
    "- PC1 and PC2 coordinates\n",
    "- Multiples of 7 are marked with \"(mult. of 7)\"\n",
    "\n",
    "### Equal Axes\n",
    "- Both plots use equal aspect ratios for fair comparison\n",
    "- Variance explained is shown on each axis\n"
   ]
  },
  {
   "cell_type": "raw",
   "metadata": {
    "vscode": {
     "languageId": "raw"
    }
   },
   "source": [
    "## 🔍 Key Insights to Look For\n",
    "\n",
    "1. **Clustering Patterns**\n",
    "   - Early layers: More mixed clustering\n",
    "   - Later layers: Clearer separation by result day\n",
    "\n",
    "2. **Effect of Multiples of 7**\n",
    "   - These are identity operations (Monday + 7 = Monday)\n",
    "   - Compare how they affect the overall structure\n",
    "\n",
    "3. **Variance Explained**\n",
    "   - Notice how variance changes across layers\n",
    "   - Compare between the two datasets\n",
    "\n",
    "4. **Result Day Groupings**\n",
    "   - See how the model learns to group operations by their answer\n",
    "   - Look for circular or structured arrangements in later layers\n"
   ]
  }
 ],
 "metadata": {
  "kernelspec": {
   "display_name": "Python 3",
   "language": "python",
   "name": "python3"
  },
  "language_info": {
   "codemirror_mode": {
    "name": "ipython",
    "version": 3
   },
   "file_extension": ".py",
   "mimetype": "text/x-python",
   "name": "python",
   "nbconvert_exporter": "python",
   "pygments_lexer": "ipython3",
   "version": "3.13.5"
  }
 },
 "nbformat": 4,
 "nbformat_minor": 4
}
